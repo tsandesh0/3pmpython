{
 "cells": [
  {
   "cell_type": "code",
   "execution_count": 1,
   "id": "dd56c40c",
   "metadata": {},
   "outputs": [],
   "source": [
    "# if<conditions>:\n",
    "#         <operations>\n",
    "        \n",
    "#     elif <condition>:\n",
    "#             <operations>\n",
    "            \n",
    "#     elif <condition>:\n",
    "#             <operations>\n",
    "# else:\n",
    "#     <operations>"
   ]
  },
  {
   "cell_type": "code",
   "execution_count": 2,
   "id": "1d30fa16",
   "metadata": {},
   "outputs": [
    {
     "name": "stdout",
     "output_type": "stream",
     "text": [
      "Hello world\n"
     ]
    }
   ],
   "source": [
    "if True:\n",
    "    print(\"Hello world\")\n",
    "    "
   ]
  },
  {
   "cell_type": "code",
   "execution_count": 3,
   "id": "6b0b8c0c",
   "metadata": {},
   "outputs": [],
   "source": [
    "# > < <= >= == !="
   ]
  },
  {
   "cell_type": "code",
   "execution_count": 7,
   "id": "68f62d3c",
   "metadata": {},
   "outputs": [
    {
     "name": "stdout",
     "output_type": "stream",
     "text": [
      "Enter x= 5\n",
      "The number is odd no\n"
     ]
    }
   ],
   "source": [
    " x = int(input(\"Enter x= \"))\n",
    "if x%2 == 0 :\n",
    "    print(\"The number is even no\")\n",
    "else:\n",
    "    print(\"The number is odd no\")"
   ]
  },
  {
   "cell_type": "code",
   "execution_count": 9,
   "id": "f6157244",
   "metadata": {},
   "outputs": [
    {
     "name": "stdout",
     "output_type": "stream",
     "text": [
      "enter a value of x: 5\n",
      "enter a value of y: 5\n",
      "Both are same\n"
     ]
    }
   ],
   "source": [
    "x = int(input(\"enter a value of x: \"))\n",
    "y = int(input(\"enter a value of y: \"))\n",
    "if x>y:\n",
    "    print(x,\"is greater\")\n",
    "elif y>x:\n",
    "    print(y, \"is greater\")\n",
    "    \n",
    "else:\n",
    "    print(\"Both are same\")\n",
    "    "
   ]
  },
  {
   "cell_type": "code",
   "execution_count": 11,
   "id": "31afa44f",
   "metadata": {},
   "outputs": [
    {
     "name": "stdout",
     "output_type": "stream",
     "text": [
      "Enter a value of x: 5\n",
      "Enter a value of y: 5\n",
      "Enter + - * / +\n",
      "10\n"
     ]
    }
   ],
   "source": [
    "x= int(input(\"Enter a value of x: \"))\n",
    "y= int(input(\"Enter a value of y: \"))\n",
    "o= input(\"Enter + - * / \")\n",
    "\n",
    "if o==\"+\":\n",
    "    print(x+y)\n",
    "elif o==\"-\":\n",
    "    print(x-y)\n",
    "elif o==\"*\":\n",
    "    print(x*y)\n",
    "elif o==\"/\":\n",
    "    print(x/y)\n",
    "else:\n",
    "    print(\"Invalid operator\")\n",
    "    "
   ]
  },
  {
   "cell_type": "code",
   "execution_count": 13,
   "id": "f04b28a3",
   "metadata": {},
   "outputs": [],
   "source": [
    "# and &\n",
    "# print(True and False)\n",
    "\n",
    "# or |\n",
    "# print(True or False)"
   ]
  },
  {
   "cell_type": "code",
   "execution_count": 16,
   "id": "56885ff2",
   "metadata": {},
   "outputs": [
    {
     "name": "stdout",
     "output_type": "stream",
     "text": [
      "Enter a value of x: 10\n",
      "Enter a value of y: 3\n",
      "Enter + - * / /\n",
      "3.3333333333333335\n"
     ]
    }
   ],
   "source": [
    "x= int(input(\"Enter a value of x: \"))\n",
    "y= int(input(\"Enter a value of y: \"))\n",
    "o= input(\"Enter + - * / \")\n",
    "\n",
    "if o==\"+\":\n",
    "    print(x+y)\n",
    "elif o==\"-\":\n",
    "    print(x-y)\n",
    "elif o==\"*\":\n",
    "    print(x*y)\n",
    "elif (o==\"/\") & (y!=0):\n",
    "    print(x/y)\n",
    "elif o==\"/\" and y==0:\n",
    "    print(\"The value is zero\")\n",
    "else:\n",
    "    print(\"Invalid operator\")\n",
    "    "
   ]
  },
  {
   "cell_type": "code",
   "execution_count": 17,
   "id": "983b670e",
   "metadata": {},
   "outputs": [
    {
     "name": "stdout",
     "output_type": "stream",
     "text": [
      "enter a grade: 40\n"
     ]
    }
   ],
   "source": [
    "per= float(input(\"enter a grade: \"))\n",
    "if (per>60) or (per==60):\n",
    "    print(\"Grade is B\")"
   ]
  },
  {
   "cell_type": "code",
   "execution_count": 18,
   "id": "5c88ded4",
   "metadata": {},
   "outputs": [],
   "source": [
    "# #nested if\n",
    "# if <condition>:\n",
    "#     if<condition>:\n",
    "#         <operations>\n",
    "#     elif<condition>:\n",
    "#         <operations>\n",
    "#     else:\n",
    "#         <operations>\n",
    "        \n",
    "# else:\n",
    "#     <operations>\n",
    "    "
   ]
  },
  {
   "cell_type": "code",
   "execution_count": 21,
   "id": "69f5db85",
   "metadata": {},
   "outputs": [
    {
     "name": "stdout",
     "output_type": "stream",
     "text": [
      "enter value of x: 3\n",
      "Odd numberand positive\n"
     ]
    }
   ],
   "source": [
    "x= int(input(\"enter value of x: \"))\n",
    "if x>0:\n",
    "    if x%2==0:\n",
    "        print(\"Even number and positive\")\n",
    "    else:\n",
    "        print(\"Odd number and positive\")\n",
    "else:\n",
    "    print(\"the number is negative\")"
   ]
  },
  {
   "cell_type": "code",
   "execution_count": 22,
   "id": "8e08a931",
   "metadata": {},
   "outputs": [
    {
     "name": "stdout",
     "output_type": "stream",
     "text": [
      "Enter a value of x: 10\n",
      "Enter a value of y: 0\n",
      "Enter + - * / /\n",
      "the value of y cannot be zero\n"
     ]
    }
   ],
   "source": [
    "x= int(input(\"Enter a value of x: \"))\n",
    "y= int(input(\"Enter a value of y: \"))\n",
    "o= input(\"Enter + - * / : \")\n",
    "\n",
    "if o==\"+\":\n",
    "    print(x+y)\n",
    "elif o==\"-\":\n",
    "    print(x-y)\n",
    "elif o==\"*\":\n",
    "    print(x*y)\n",
    "elif o==\"/\":\n",
    "    if y!=0:\n",
    "        print(x/y)\n",
    "    else:\n",
    "        print(\"the value of y cannot be zero\")\n",
    "else:\n",
    "    print(\"Invalid operator\")\n",
    "    "
   ]
  },
  {
   "cell_type": "code",
   "execution_count": null,
   "id": "18eb8e09",
   "metadata": {},
   "outputs": [],
   "source": []
  }
 ],
 "metadata": {
  "kernelspec": {
   "display_name": "Python 3 (ipykernel)",
   "language": "python",
   "name": "python3"
  },
  "language_info": {
   "codemirror_mode": {
    "name": "ipython",
    "version": 3
   },
   "file_extension": ".py",
   "mimetype": "text/x-python",
   "name": "python",
   "nbconvert_exporter": "python",
   "pygments_lexer": "ipython3",
   "version": "3.9.7"
  }
 },
 "nbformat": 4,
 "nbformat_minor": 5
}
