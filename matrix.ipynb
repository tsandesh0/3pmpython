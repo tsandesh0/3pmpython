{
 "cells": [
  {
   "cell_type": "code",
   "execution_count": 42,
   "id": "f0eb457c",
   "metadata": {},
   "outputs": [
    {
     "name": "stdout",
     "output_type": "stream",
     "text": [
      "Enter row= 2\n",
      "Enter column= 2\n",
      "2\n",
      "3\n",
      "2\n",
      "3\n",
      "2  3  \n",
      "2  3  \n"
     ]
    }
   ],
   "source": [
    "#matrix\n",
    "\n",
    "r=int(input(\"Enter row= \"))\n",
    "c=int(input(\"Enter column= \"))\n",
    "matrix=[]\n",
    "\n",
    "for i in range(r):\n",
    "    a=[]\n",
    "    for j in range(c):\n",
    "        a.append(int(input()))\n",
    "        matrix.append(a)\n",
    "\n",
    "for i in range(r):\n",
    "    for j in range(c):\n",
    "        print( matrix[i][j] ,end= \"  \")\n",
    "    print()\n",
    "    "
   ]
  },
  {
   "cell_type": "code",
   "execution_count": 2,
   "id": "b1632157",
   "metadata": {},
   "outputs": [
    {
     "name": "stdout",
     "output_type": "stream",
     "text": [
      "How many data you want to enter= 2\n",
      "\n",
      "Enter a name= ram\n",
      "Enter a age= 23\n",
      "Enter a location= luvu\n",
      "\n",
      "Enter a name= sita\n",
      "Enter a age= 34\n",
      "Enter a location= lamatar\n",
      "(('ram', 23, 'luvu'), ('sita', 34, 'lamatar'))\n",
      "<class 'tuple'>\n"
     ]
    }
   ],
   "source": [
    "#WAP to create tuple inside tuple\n",
    "\n",
    "t=tuple()\n",
    "num=int(input(\"How many data you want to enter= \"))\n",
    "\n",
    "for i in range(num):\n",
    "    a=input(\"\\nEnter a name= \")\n",
    "    b=int(input(\"Enter a age= \"))\n",
    "    c=input(\"Enter a location= \")\n",
    "    \n",
    "    t=t+((a,b,c,),)\n",
    "    \n",
    "print(t)\n",
    "print(type(t))"
   ]
  },
  {
   "cell_type": "code",
   "execution_count": 1,
   "id": "4f373cf4",
   "metadata": {},
   "outputs": [
    {
     "name": "stdout",
     "output_type": "stream",
     "text": [
      "How many data you want to enter= 2\n",
      "\n",
      "Enter a name= san\n",
      "Enter a age= 12\n",
      "Enter a location= ktm\n",
      "\n",
      "Enter a name= man\n",
      "Enter a age= 23\n",
      "Enter a location= ktm\n",
      "[('san', 12, 'ktm'), ('man', 23, 'ktm')]\n",
      "<class 'list'>\n"
     ]
    }
   ],
   "source": [
    "#WAP to convert tuple inside tuple to list inside list and vice versa\n",
    "\n",
    "t=tuple()\n",
    "num=int(input(\"How many data you want to enter= \"))\n",
    "\n",
    "for i in range(num):\n",
    "    a=input(\"\\nEnter a name= \")\n",
    "    b=int(input(\"Enter a age= \"))\n",
    "    c=input(\"Enter a location= \")\n",
    "    \n",
    "    t=t+((a,b,c,),)\n",
    "    \n",
    "    con=list(t)\n",
    "    \n",
    "print(con)\n",
    "print(type(con))"
   ]
  },
  {
   "cell_type": "code",
   "execution_count": null,
   "id": "285c6ce2",
   "metadata": {},
   "outputs": [],
   "source": []
  }
 ],
 "metadata": {
  "kernelspec": {
   "display_name": "Python 3 (ipykernel)",
   "language": "python",
   "name": "python3"
  },
  "language_info": {
   "codemirror_mode": {
    "name": "ipython",
    "version": 3
   },
   "file_extension": ".py",
   "mimetype": "text/x-python",
   "name": "python",
   "nbconvert_exporter": "python",
   "pygments_lexer": "ipython3",
   "version": "3.9.7"
  }
 },
 "nbformat": 4,
 "nbformat_minor": 5
}
