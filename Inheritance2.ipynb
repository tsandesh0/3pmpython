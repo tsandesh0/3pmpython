{
 "cells": [
  {
   "cell_type": "code",
   "execution_count": 1,
   "id": "3d344bb6",
   "metadata": {},
   "outputs": [
    {
     "name": "stdout",
     "output_type": "stream",
     "text": [
      "Ram\n",
      "33\n",
      "kathmandu\n"
     ]
    }
   ],
   "source": [
    "#PUBLIC MEMBERS\n",
    "\n",
    "class Info:\n",
    "    def __init__(self,name,age,add):\n",
    "        self.name=name\n",
    "        self.age=age\n",
    "        self.add=add\n",
    "        \n",
    "obj = Info(\"Ram\",33,\"kathmandu\")\n",
    "print(obj.name)\n",
    "print(obj.age)\n",
    "print(obj.add)"
   ]
  },
  {
   "cell_type": "code",
   "execution_count": 3,
   "id": "b695a6cc",
   "metadata": {},
   "outputs": [
    {
     "name": "stdout",
     "output_type": "stream",
     "text": [
      "Ram\n",
      "33\n",
      "kathmandu\n"
     ]
    }
   ],
   "source": [
    "#PROTECTED MEMBERS\n",
    "\n",
    "class Info:\n",
    "    def __init__(self,name,age,add):\n",
    "        self._name=name\n",
    "        self._age=age\n",
    "        self._add=add\n",
    "        \n",
    "obj = Info(\"Ram\",33,\"kathmandu\")\n",
    "print(obj._name)\n",
    "print(obj._age)\n",
    "print(obj._add)"
   ]
  },
  {
   "cell_type": "code",
   "execution_count": 4,
   "id": "d937c046",
   "metadata": {},
   "outputs": [
    {
     "ename": "AttributeError",
     "evalue": "'Info' object has no attribute '__name'",
     "output_type": "error",
     "traceback": [
      "\u001b[1;31m---------------------------------------------------------------------------\u001b[0m",
      "\u001b[1;31mAttributeError\u001b[0m                            Traceback (most recent call last)",
      "\u001b[1;32m~\\AppData\\Local\\Temp/ipykernel_5160/1745739144.py\u001b[0m in \u001b[0;36m<module>\u001b[1;34m\u001b[0m\n\u001b[0;32m      8\u001b[0m \u001b[1;33m\u001b[0m\u001b[0m\n\u001b[0;32m      9\u001b[0m \u001b[0mobj\u001b[0m \u001b[1;33m=\u001b[0m \u001b[0mInfo\u001b[0m\u001b[1;33m(\u001b[0m\u001b[1;34m\"Ram\"\u001b[0m\u001b[1;33m,\u001b[0m\u001b[1;36m33\u001b[0m\u001b[1;33m,\u001b[0m\u001b[1;34m\"kathmandu\"\u001b[0m\u001b[1;33m)\u001b[0m\u001b[1;33m\u001b[0m\u001b[1;33m\u001b[0m\u001b[0m\n\u001b[1;32m---> 10\u001b[1;33m \u001b[0mprint\u001b[0m\u001b[1;33m(\u001b[0m\u001b[0mobj\u001b[0m\u001b[1;33m.\u001b[0m\u001b[0m__name\u001b[0m\u001b[1;33m)\u001b[0m\u001b[1;33m\u001b[0m\u001b[1;33m\u001b[0m\u001b[0m\n\u001b[0m\u001b[0;32m     11\u001b[0m \u001b[0mprint\u001b[0m\u001b[1;33m(\u001b[0m\u001b[0mobj\u001b[0m\u001b[1;33m.\u001b[0m\u001b[0m__age\u001b[0m\u001b[1;33m)\u001b[0m\u001b[1;33m\u001b[0m\u001b[1;33m\u001b[0m\u001b[0m\n\u001b[0;32m     12\u001b[0m \u001b[0mprint\u001b[0m\u001b[1;33m(\u001b[0m\u001b[0mobj\u001b[0m\u001b[1;33m.\u001b[0m\u001b[0m__add\u001b[0m\u001b[1;33m)\u001b[0m\u001b[1;33m\u001b[0m\u001b[1;33m\u001b[0m\u001b[0m\n",
      "\u001b[1;31mAttributeError\u001b[0m: 'Info' object has no attribute '__name'"
     ]
    }
   ],
   "source": [
    "#PRIVATE MEMBERS\n",
    "\n",
    "class Info:\n",
    "    def __init__(self,name,age,add):\n",
    "        self.__name=name\n",
    "        self.__age=age\n",
    "        self.__add=add\n",
    "        \n",
    "obj = Info(\"Ram\",33,\"kathmandu\")\n",
    "print(obj.__name)\n",
    "print(obj.__age)\n",
    "print(obj.__add)"
   ]
  },
  {
   "cell_type": "code",
   "execution_count": 5,
   "id": "4b699c35",
   "metadata": {},
   "outputs": [
    {
     "name": "stdout",
     "output_type": "stream",
     "text": [
      "Ram\n",
      "33\n",
      "kathmandu\n"
     ]
    }
   ],
   "source": [
    "#PRIVATE MEMBERS\n",
    "\n",
    "class Info:\n",
    "    def __init__(self,name,age,add):\n",
    "        self.__name=name\n",
    "        self.__age=age\n",
    "        self.__add=add\n",
    "        \n",
    "obj = Info(\"Ram\",33,\"kathmandu\")\n",
    "print(obj._Info__name)\n",
    "print(obj._Info__age)\n",
    "print(obj._Info__add)"
   ]
  },
  {
   "cell_type": "code",
   "execution_count": 8,
   "id": "6dcc5e30",
   "metadata": {},
   "outputs": [
    {
     "name": "stdout",
     "output_type": "stream",
     "text": [
      "Enter name= ram\n",
      "Enter age= 23\n",
      "Enter addreess= ktm\n",
      "Hello my name is ram .I am  23 years old .\n",
      "Hello world I am ram . I am from ktm . I am  23 years old. \n"
     ]
    }
   ],
   "source": [
    "class A:\n",
    "    def __init__(self,name,age,add):\n",
    "        self.name=name\n",
    "        self._age=age\n",
    "        self.__add=add\n",
    "        \n",
    "    def a(self):\n",
    "        print(f\"Hello world I am {self.name} . I am from {self.__add} . I am  {self._age} years old. \")\n",
    "\n",
    "class B(A):\n",
    "    def info(self):\n",
    "        print(f\"Hello my name is {self.name} .I am  {self._age} years old .\")\n",
    "        \n",
    "name = input(\"Enter name= \")\n",
    "age=int(input(\"Enter age= \"))\n",
    "add=input(\"Enter addreess= \")\n",
    "\n",
    "\n",
    "obj= B(name,age,add)\n",
    "obj.info()\n",
    "obj.a()"
   ]
  },
  {
   "cell_type": "code",
   "execution_count": 9,
   "id": "d48985bd",
   "metadata": {},
   "outputs": [
    {
     "name": "stdout",
     "output_type": "stream",
     "text": [
      "Hello world I am  Ram . I am from ktm . I am 33 years old. \n"
     ]
    }
   ],
   "source": [
    "class A:\n",
    "    def __init__(self,add):\n",
    "        self._add=add\n",
    "    def address(self):\n",
    "        print(f\"I am from {self.add}\")\n",
    "\n",
    "class B:\n",
    "    def __init__(self,age):\n",
    "        self._age=age\n",
    "    def age(self):\n",
    "        print(f\"I am {self.age} \")\n",
    "\n",
    "class C(A,B):\n",
    "    def __init__(self,name,age,add):\n",
    "        self.__name=name\n",
    "        B.__init__(self,age)\n",
    "        A.__init__(self,add)\n",
    "        \n",
    "    def info(self):\n",
    "        print(f\"Hello world I am  {self.__name} . I am from {self._add} . I am {self._age} years old. \")\n",
    "        \n",
    "\n",
    "obj = C(\"Ram\",33,\"ktm\")\n",
    "obj.info()"
   ]
  },
  {
   "cell_type": "code",
   "execution_count": 11,
   "id": "829b0349",
   "metadata": {},
   "outputs": [
    {
     "name": "stdout",
     "output_type": "stream",
     "text": [
      "Enter name= ram\n",
      "Enter addreess= ktm\n",
      "Hello my name is ram \n",
      "Hello my name is ram  I am from ktm\n"
     ]
    }
   ],
   "source": [
    "class A:\n",
    "    def __init__(self,name,add):\n",
    "        self.name=name\n",
    "        self.add=add\n",
    "        \n",
    "    def a(self):\n",
    "        return f\"Hello my name is {self.name} \"\n",
    "\n",
    "class B(A):\n",
    "    def info(self):\n",
    "        print(super().a())\n",
    "        print(super().a(),f\"I am from {self.add}\")\n",
    "        \n",
    "name = input(\"Enter name= \")\n",
    "add=input(\"Enter addreess= \")\n",
    "\n",
    "\n",
    "obj= B(name,add)\n",
    "obj.info()"
   ]
  },
  {
   "cell_type": "code",
   "execution_count": 1,
   "id": "fc26b572",
   "metadata": {},
   "outputs": [],
   "source": [
    "# [['ram',34],\n",
    "# [\"shtyam ,34]\n",
    "\n",
    "# class A:\n",
    "#     pass\n",
    "\n",
    "# class B:\n",
    "#     pass\n",
    "\n",
    "# class C(A,B):\n",
    "#     pass\n",
    "\n",
    "# obj=C()"
   ]
  }
 ],
 "metadata": {
  "kernelspec": {
   "display_name": "Python 3 (ipykernel)",
   "language": "python",
   "name": "python3"
  },
  "language_info": {
   "codemirror_mode": {
    "name": "ipython",
    "version": 3
   },
   "file_extension": ".py",
   "mimetype": "text/x-python",
   "name": "python",
   "nbconvert_exporter": "python",
   "pygments_lexer": "ipython3",
   "version": "3.9.7"
  }
 },
 "nbformat": 4,
 "nbformat_minor": 5
}
