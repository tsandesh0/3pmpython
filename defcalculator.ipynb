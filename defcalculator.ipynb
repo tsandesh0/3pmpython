{
 "cells": [
  {
   "cell_type": "code",
   "execution_count": 6,
   "id": "0a10f2cc",
   "metadata": {},
   "outputs": [
    {
     "name": "stdout",
     "output_type": "stream",
     "text": [
      "Enter first number: 10\n",
      "Enter second number: 20\n",
      "please select an operation = + , - , / , * : +\n",
      "OUTPUT\n",
      "30\n"
     ]
    }
   ],
   "source": [
    "def add(a,b):\n",
    "    print(a+b) \n",
    "\n",
    "def sub(a,b):\n",
    "    print(a-b)\n",
    "\n",
    "def mul(a,b):\n",
    "    print(a*b)\n",
    "\n",
    "def div(a,b):\n",
    "    print(a/b)\n",
    "\n",
    "a=int(input(\"Enter first number: \"))\n",
    "b=int(input(\"Enter second number: \"))\n",
    "ope=input(\"please select an operation = + , - , / , * : \")\n",
    "\n",
    "if ope==\"+\":\n",
    "    add(a,b)\n",
    "elif ope==\"-\":\n",
    "    sub(a,b)\n",
    "elif ope==\"*\":\n",
    "    mul(a,b)\n",
    "elif ope==\"/\":\n",
    "    if b==0:\n",
    "        print(\"cannot divide by zero\")\n",
    "    else:\n",
    "        div(a,b)\n",
    "else:\n",
    "    print(\"INVALID OPERATIONS\")\n"
   ]
  },
  {
   "cell_type": "code",
   "execution_count": 8,
   "id": "c3463d84",
   "metadata": {},
   "outputs": [
    {
     "name": "stdout",
     "output_type": "stream",
     "text": [
      "Enter a= 40\n",
      "Enter b= 20\n",
      "Enter + - * / =-\n",
      "20\n"
     ]
    }
   ],
   "source": [
    "def add(a,b):\n",
    "    return a+b\n",
    "\n",
    "def sub(a,b):\n",
    "    return a-b\n",
    "\n",
    "def mul(a,b):\n",
    "    return a*b\n",
    "\n",
    "def div(a,b):\n",
    "    return a/b\n",
    "\n",
    "def cal():\n",
    "    a=int(input(\"Enter a= \"))\n",
    "    b=int(input(\"Enter b= \"))\n",
    "    o=input(\"Enter + - * / =\")\n",
    "    \n",
    "    if o==\"+\":\n",
    "        print(add(a,b))\n",
    "    elif o==\"-\":\n",
    "        print(sub(a,b))\n",
    "    elif o==\"*\":\n",
    "        print(mul(a,b))\n",
    "    elif o==\"/\":\n",
    "        print(div(a,b))\n",
    "    else:\n",
    "        print(\"invalid operations\")\n",
    "        \n",
    "cal()\n",
    "    "
   ]
  },
  {
   "cell_type": "code",
   "execution_count": null,
   "id": "90d79ee5",
   "metadata": {},
   "outputs": [],
   "source": []
  }
 ],
 "metadata": {
  "kernelspec": {
   "display_name": "Python 3 (ipykernel)",
   "language": "python",
   "name": "python3"
  },
  "language_info": {
   "codemirror_mode": {
    "name": "ipython",
    "version": 3
   },
   "file_extension": ".py",
   "mimetype": "text/x-python",
   "name": "python",
   "nbconvert_exporter": "python",
   "pygments_lexer": "ipython3",
   "version": "3.9.7"
  }
 },
 "nbformat": 4,
 "nbformat_minor": 5
}
