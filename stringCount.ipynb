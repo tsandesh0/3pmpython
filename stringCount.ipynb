{
 "cells": [
  {
   "cell_type": "code",
   "execution_count": 5,
   "id": "0f1f88ed",
   "metadata": {},
   "outputs": [
    {
     "name": "stdout",
     "output_type": "stream",
     "text": [
      "apple 0\n",
      "apple 1\n"
     ]
    }
   ],
   "source": [
    "a=[\"apple\",\"apple\",\"ball\",\"cat\",\"apple\",\"mango\",\"truck\",\"box\",\"apple\"]\n",
    "f=a.count('apple')\n",
    "for i in range(f):\n",
    "    if a[i]==\"apple\":\n",
    "         print(a[i],i)"
   ]
  },
  {
   "cell_type": "code",
   "execution_count": 2,
   "id": "7af8742b",
   "metadata": {},
   "outputs": [
    {
     "name": "stdout",
     "output_type": "stream",
     "text": [
      "apple 0\n",
      "apple 1\n",
      "apple 4\n"
     ]
    }
   ],
   "source": [
    "a=[\"apple\",\"apple\",\"ball\",\"cat\",\"apple\",\"mango\",\"truck\",\"box\",\"apple\"]\n",
    "f=a.count(\"apple\")\n",
    "n=0\n",
    "for i in range(f+1):\n",
    "    if a[i]==\"apple\":\n",
    "         print(a[i],i)"
   ]
  },
  {
   "cell_type": "code",
   "execution_count": 1,
   "id": "cd76b262",
   "metadata": {},
   "outputs": [
    {
     "name": "stdout",
     "output_type": "stream",
     "text": [
      "apple 0\n",
      "apple 1\n",
      "apple 4\n",
      "apple 6\n",
      "apple 10\n",
      "apple 11\n",
      "apple 12\n",
      "apple 15\n",
      "apple 17\n",
      "apple 21\n",
      "\n",
      "Total apple: 10\n"
     ]
    }
   ],
   "source": [
    "a=[\"apple\",\"apple\",\"ball\",\"cat\",\"apple\",\"mango\",\"apple\",\"truck\",\"ball\",\"box\",\"apple\",\"apple\",\"apple\",\"ball\",\"cat\",\"apple\",\"mango\",\"apple\",\"truck\",\"ball\",\"box\",\"apple\"]\n",
    "f=a.count(\"apple\")\n",
    "l=len(a)\n",
    "\n",
    "for i in range(l):\n",
    "    if a[i]==\"apple\":\n",
    "        print(a[i],i)\n",
    "print(\"\\nTotal apple:\",f)\n"
   ]
  },
  {
   "cell_type": "code",
   "execution_count": null,
   "id": "a525a893",
   "metadata": {},
   "outputs": [],
   "source": []
  }
 ],
 "metadata": {
  "kernelspec": {
   "display_name": "Python 3 (ipykernel)",
   "language": "python",
   "name": "python3"
  },
  "language_info": {
   "codemirror_mode": {
    "name": "ipython",
    "version": 3
   },
   "file_extension": ".py",
   "mimetype": "text/x-python",
   "name": "python",
   "nbconvert_exporter": "python",
   "pygments_lexer": "ipython3",
   "version": "3.9.7"
  }
 },
 "nbformat": 4,
 "nbformat_minor": 5
}
