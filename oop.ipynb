{
 "cells": [
  {
   "cell_type": "code",
   "execution_count": 1,
   "id": "7c29a58f",
   "metadata": {},
   "outputs": [],
   "source": [
    "# class <class_name>:\n",
    "#     <operations>\n",
    "    \n",
    "\n",
    "# obj = <class_name>()"
   ]
  },
  {
   "cell_type": "code",
   "execution_count": 4,
   "id": "90b4083b",
   "metadata": {},
   "outputs": [
    {
     "name": "stdout",
     "output_type": "stream",
     "text": [
      "Hello world\n"
     ]
    }
   ],
   "source": [
    "class hello:                              #class\n",
    "    print(\"Hello world\")\n",
    "    \n",
    "obj = hello()                              #object"
   ]
  },
  {
   "cell_type": "code",
   "execution_count": 8,
   "id": "555b6d0d",
   "metadata": {},
   "outputs": [
    {
     "name": "stdout",
     "output_type": "stream",
     "text": [
      "Hello world\n"
     ]
    }
   ],
   "source": [
    "class Hello:\n",
    "    def hello(self):\n",
    "        print(\"Hello world\")\n",
    "        \n",
    "obj=Hello()\n",
    "obj.hello()"
   ]
  },
  {
   "cell_type": "code",
   "execution_count": 9,
   "id": "c7c4b967",
   "metadata": {},
   "outputs": [
    {
     "name": "stdout",
     "output_type": "stream",
     "text": [
      "Hello world\n"
     ]
    }
   ],
   "source": [
    "class Hello:\n",
    "    @staticmethod\n",
    "    def hello():\n",
    "        print(\"Hello world\")\n",
    "        \n",
    "obj=Hello()\n",
    "obj.hello()\n"
   ]
  },
  {
   "cell_type": "code",
   "execution_count": 10,
   "id": "b4edd430",
   "metadata": {},
   "outputs": [
    {
     "name": "stdout",
     "output_type": "stream",
     "text": [
      "50\n"
     ]
    }
   ],
   "source": [
    "class Area:\n",
    "    @staticmethod\n",
    "    def area(l,b):\n",
    "        print(l*b)\n",
    "        \n",
    "obj=Area()\n",
    "obj.area(10,5)"
   ]
  },
  {
   "cell_type": "code",
   "execution_count": 12,
   "id": "e7f84c87",
   "metadata": {},
   "outputs": [
    {
     "name": "stdout",
     "output_type": "stream",
     "text": [
      "50\n"
     ]
    }
   ],
   "source": [
    "class Area:\n",
    "    \n",
    "    def area(self,l,b):\n",
    "        print(l*b)\n",
    "        \n",
    "obj=Area()\n",
    "obj.area(10,5)"
   ]
  },
  {
   "cell_type": "code",
   "execution_count": 13,
   "id": "f4eab345",
   "metadata": {},
   "outputs": [
    {
     "name": "stdout",
     "output_type": "stream",
     "text": [
      "50\n",
      "100\n"
     ]
    }
   ],
   "source": [
    "class Area:\n",
    "    \n",
    "    def area(self,l,b):\n",
    "        print(l*b)\n",
    "        \n",
    "    def volume(self,l,b,h):\n",
    "        print(l*b*h)\n",
    "        \n",
    "obj=Area()\n",
    "obj.area(10,5)\n",
    "obj.volume(10,5,2)"
   ]
  },
  {
   "cell_type": "code",
   "execution_count": 19,
   "id": "d9e2281e",
   "metadata": {},
   "outputs": [
    {
     "name": "stdout",
     "output_type": "stream",
     "text": [
      "50\n",
      "100\n"
     ]
    }
   ],
   "source": [
    "class Cal:\n",
    "    def __init__(self,l,b,h):\n",
    "        self.l=l\n",
    "        self.b=b\n",
    "        self.h=h\n",
    "    \n",
    "    def area(self):\n",
    "        print(self.l*self.b)\n",
    "        \n",
    "    def volume(self):\n",
    "        print(self.l*self.b*self.h)\n",
    "        \n",
    "        \n",
    "obj=Cal(10,5,2)\n",
    "obj.area()\n",
    "obj.volume()"
   ]
  },
  {
   "cell_type": "code",
   "execution_count": 18,
   "id": "bc20a44f",
   "metadata": {},
   "outputs": [
    {
     "name": "stdout",
     "output_type": "stream",
     "text": [
      "Enter the value of l=2\n",
      "Enter the value of b=3\n",
      "Enter the value of h=4\n",
      "6\n",
      "24\n"
     ]
    }
   ],
   "source": [
    "class Cal:\n",
    "    def __init__(self):\n",
    "        self.l=int(input(\"Enter the value of l=\"))\n",
    "        self.b=int(input(\"Enter the value of b=\"))\n",
    "        self.h=int(input(\"Enter the value of h=\"))\n",
    "    \n",
    "    def area(self):\n",
    "        print(self.l*self.b)\n",
    "        \n",
    "    def volume(self):\n",
    "        print(self.l*self.b*self.h)\n",
    "        \n",
    "        \n",
    "obj=Cal()\n",
    "obj.area()\n",
    "obj.volume()\n",
    "    "
   ]
  },
  {
   "cell_type": "code",
   "execution_count": 23,
   "id": "4a81f237",
   "metadata": {},
   "outputs": [
    {
     "name": "stdout",
     "output_type": "stream",
     "text": [
      "50\n",
      "100\n",
      "44\n",
      "88\n"
     ]
    }
   ],
   "source": [
    "class Cal:\n",
    "    def __init__(self,l,b,h):\n",
    "        self.l=l\n",
    "        self.b=b\n",
    "        self.h=h\n",
    "    \n",
    "    def area(self):\n",
    "        print(self.l*self.b)\n",
    "        \n",
    "    def volume(self):\n",
    "        print(self.l*self.b*self.h)\n",
    "        \n",
    "        \n",
    "obj=Cal(10,5,2)\n",
    "obj.area()\n",
    "obj.volume()\n",
    "\n",
    "obj1=Cal(11,4,2)\n",
    "obj1.area()\n",
    "obj1.volume()"
   ]
  },
  {
   "cell_type": "code",
   "execution_count": 29,
   "id": "a6e02aa5",
   "metadata": {},
   "outputs": [
    {
     "name": "stdout",
     "output_type": "stream",
     "text": [
      "50\n",
      "150\n"
     ]
    }
   ],
   "source": [
    "class Area:\n",
    "    def __init__(self,l,b):\n",
    "        self.l=l\n",
    "        self.b=b\n",
    "        \n",
    "    def area(self):\n",
    "        a=self.l*self.b\n",
    "        print(a)\n",
    "        \n",
    "        \n",
    "class Volume:\n",
    "    def __init__(self,l,b,h):\n",
    "        self.l=l\n",
    "        self.b=b\n",
    "        self.h=h\n",
    "        \n",
    "    def volume(self):\n",
    "        v=self.l*self.b*self.h\n",
    "        print(v)\n",
    "        \n",
    "obj1=Area(10,5)\n",
    "obj1.area()\n",
    "\n",
    "obj2=Volume(10,5,3)\n",
    "obj2.volume()"
   ]
  },
  {
   "cell_type": "code",
   "execution_count": null,
   "id": "6de48bd5",
   "metadata": {},
   "outputs": [],
   "source": [
    "#WAP to make a data entry application using oop\n",
    "#WAP to read and write data in using csv and panda."
   ]
  }
 ],
 "metadata": {
  "kernelspec": {
   "display_name": "Python 3 (ipykernel)",
   "language": "python",
   "name": "python3"
  },
  "language_info": {
   "codemirror_mode": {
    "name": "ipython",
    "version": 3
   },
   "file_extension": ".py",
   "mimetype": "text/x-python",
   "name": "python",
   "nbconvert_exporter": "python",
   "pygments_lexer": "ipython3",
   "version": "3.9.7"
  }
 },
 "nbformat": 4,
 "nbformat_minor": 5
}
