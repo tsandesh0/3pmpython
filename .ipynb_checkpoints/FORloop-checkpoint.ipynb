{
 "cells": [
  {
   "cell_type": "code",
   "execution_count": 1,
   "id": "04d235c8",
   "metadata": {},
   "outputs": [],
   "source": [
    "# for loop\n",
    "# while loop\n"
   ]
  },
  {
   "cell_type": "code",
   "execution_count": 2,
   "id": "256bbf05",
   "metadata": {},
   "outputs": [],
   "source": [
    "# # for(i=0 ; i<5; i++)\n",
    "#     (\n",
    "    \n",
    "#     )"
   ]
  },
  {
   "cell_type": "code",
   "execution_count": 3,
   "id": "61d33117",
   "metadata": {},
   "outputs": [],
   "source": [
    "# range(5) 0,1,2,3,4\n",
    "# range(1,5) 1,2,3,4\n",
    "# range(1,10,2) 1,3,5,7,9"
   ]
  },
  {
   "cell_type": "code",
   "execution_count": 4,
   "id": "714aaba0",
   "metadata": {},
   "outputs": [
    {
     "name": "stdout",
     "output_type": "stream",
     "text": [
      "0 Hello world\n",
      "1 Hello world\n",
      "2 Hello world\n",
      "3 Hello world\n",
      "4 Hello world\n"
     ]
    }
   ],
   "source": [
    "for i in range(5):\n",
    "    print(i,\"Hello world\")"
   ]
  },
  {
   "cell_type": "code",
   "execution_count": 5,
   "id": "42059662",
   "metadata": {},
   "outputs": [
    {
     "name": "stdout",
     "output_type": "stream",
     "text": [
      "1 Hello world\n",
      "2 Hello world\n",
      "3 Hello world\n",
      "4 Hello world\n"
     ]
    }
   ],
   "source": [
    "for i in range(1,5):\n",
    "    print(i,\"Hello world\")"
   ]
  },
  {
   "cell_type": "code",
   "execution_count": 6,
   "id": "b5dbe8c8",
   "metadata": {},
   "outputs": [
    {
     "name": "stdout",
     "output_type": "stream",
     "text": [
      "1 Hello world\n",
      "3 Hello world\n",
      "5 Hello world\n",
      "7 Hello world\n",
      "9 Hello world\n"
     ]
    }
   ],
   "source": [
    "for i in range(1,10,2):\n",
    "    print(i,\"Hello world\")"
   ]
  },
  {
   "cell_type": "code",
   "execution_count": 7,
   "id": "c511778e",
   "metadata": {},
   "outputs": [
    {
     "name": "stdout",
     "output_type": "stream",
     "text": [
      "10 Hello world\n",
      "9 Hello world\n",
      "8 Hello world\n",
      "7 Hello world\n",
      "6 Hello world\n",
      "5 Hello world\n",
      "4 Hello world\n",
      "3 Hello world\n",
      "2 Hello world\n",
      "1 Hello world\n",
      "0 Hello world\n"
     ]
    }
   ],
   "source": [
    "for i in range(10,-1,-1):\n",
    "    print(i,\"Hello world\")"
   ]
  },
  {
   "cell_type": "code",
   "execution_count": 8,
   "id": "7f2e7f88",
   "metadata": {},
   "outputs": [
    {
     "name": "stdout",
     "output_type": "stream",
     "text": [
      "Enter a value of n: 3\n",
      "3\n",
      "6\n",
      "9\n",
      "12\n",
      "15\n",
      "18\n",
      "21\n",
      "24\n",
      "27\n",
      "30\n"
     ]
    }
   ],
   "source": [
    "n= int(input(\"Enter a value of n: \"))\n",
    "for i in range(1,11):\n",
    "    print(i*n)\n",
    "    "
   ]
  },
  {
   "cell_type": "code",
   "execution_count": 1,
   "id": "6d2c0380",
   "metadata": {},
   "outputs": [
    {
     "name": "stdout",
     "output_type": "stream",
     "text": [
      "Enter a value of n: 6\n",
      "6 * 1 = 6\n",
      "6 * 2 = 12\n",
      "6 * 3 = 18\n",
      "6 * 4 = 24\n",
      "6 * 5 = 30\n",
      "6 * 6 = 36\n",
      "6 * 7 = 42\n",
      "6 * 8 = 48\n",
      "6 * 9 = 54\n",
      "6 * 10 = 60\n"
     ]
    }
   ],
   "source": [
    "n= int(input(\"Enter a value of n: \"))\n",
    "for i in range(1,11):\n",
    "    print(n, \"*\" ,i, \"=\",i*n)"
   ]
  },
  {
   "cell_type": "code",
   "execution_count": 2,
   "id": "2f6106db",
   "metadata": {},
   "outputs": [
    {
     "name": "stdout",
     "output_type": "stream",
     "text": [
      "Enter a value of n: 3\n",
      "Enter value of x: 4\n",
      "Enter value of x: 4\n",
      "Enter value of x: 4\n",
      "12\n"
     ]
    }
   ],
   "source": [
    "s = 0\n",
    "n= int(input(\"Enter a value of n: \"))\n",
    "for i in range(n):\n",
    "    x= int(input(\"Enter value of x: \"))\n",
    "    s= s+x\n",
    "    \n",
    "print(s)\n",
    "    "
   ]
  },
  {
   "cell_type": "code",
   "execution_count": null,
   "id": "298b7b69",
   "metadata": {},
   "outputs": [],
   "source": [
    "# a= int()\n",
    "# b= float()\n",
    "# c= str()"
   ]
  },
  {
   "cell_type": "code",
   "execution_count": 4,
   "id": "555a3f49",
   "metadata": {},
   "outputs": [
    {
     "name": "stdout",
     "output_type": "stream",
     "text": [
      "Enter a value of n: 3\n",
      "Enter enter name: sandes\n",
      "Enter enter name: ritesh\n",
      "Enter enter name: ram\n",
      "sandes\n",
      "ritesh\n",
      "ram\n",
      "\n"
     ]
    }
   ],
   "source": [
    "s = str()\n",
    "n= int(input(\"Enter a value of n: \"))\n",
    "for i in range(n):\n",
    "    x= input(\"Enter enter name: \")\n",
    "    s= s+x+\"\\n\"\n",
    "    \n",
    "print(s)\n",
    "    "
   ]
  },
  {
   "cell_type": "code",
   "execution_count": 5,
   "id": "aa88b538",
   "metadata": {},
   "outputs": [
    {
     "name": "stdout",
     "output_type": "stream",
     "text": [
      "Enter a value of n: 3\n",
      "Enter name: sandesh\n",
      "Enter phone: 9999\n",
      "Enter name: ram\n",
      "Enter phone: 8888\n",
      "Enter name: rites\n",
      "Enter phone: 2222\n",
      "sandesh 9999\n",
      "ram 8888\n",
      "rites 2222\n",
      "\n"
     ]
    }
   ],
   "source": [
    "s = str()\n",
    "n= int(input(\"Enter a value of n: \"))\n",
    "for i in range(n):\n",
    "    name= input(\"Enter name: \")\n",
    "    phone=input(\"Enter phone: \")\n",
    "    s= s+name+\" \"+phone+\"\\n\"\n",
    "    \n",
    "print(s)\n",
    "    "
   ]
  },
  {
   "cell_type": "code",
   "execution_count": 1,
   "id": "fcb074da",
   "metadata": {},
   "outputs": [
    {
     "name": "stdout",
     "output_type": "stream",
     "text": [
      "enter value of n= 5\n",
      "120\n"
     ]
    }
   ],
   "source": [
    "fac=1\n",
    "n= int(input(\"enter value of n= \"))\n",
    "for i in range(1,n+1):\n",
    "    fac= fac*i\n",
    "print(fac)"
   ]
  },
  {
   "cell_type": "code",
   "execution_count": 25,
   "id": "87163f00",
   "metadata": {},
   "outputs": [
    {
     "name": "stdout",
     "output_type": "stream",
     "text": [
      "hello world\n",
      "hello world\n",
      "hello world\n",
      "hello world\n",
      "hello world\n",
      "hello world\n"
     ]
    }
   ],
   "source": [
    "a=\"python\"\n",
    "for i in a:\n",
    "    print(\"hello world\")"
   ]
  },
  {
   "cell_type": "code",
   "execution_count": 28,
   "id": "4237c5f6",
   "metadata": {},
   "outputs": [
    {
     "name": "stdout",
     "output_type": "stream",
     "text": [
      "p\n",
      "y\n",
      "t\n",
      "h\n",
      "o\n",
      "n\n"
     ]
    }
   ],
   "source": [
    "a=\"python\"\n",
    "for i in a:\n",
    "    print(i)"
   ]
  },
  {
   "cell_type": "code",
   "execution_count": 31,
   "id": "ec2130fb",
   "metadata": {},
   "outputs": [
    {
     "name": "stdout",
     "output_type": "stream",
     "text": [
      "H\n",
      "e\n",
      "l\n",
      "l\n",
      "o\n",
      "w\n",
      "o\n",
      "r\n",
      "l\n",
      "d\n",
      "i\n",
      "a\n",
      "m\n",
      "p\n",
      "y\n",
      "t\n",
      "h\n",
      "o\n",
      "n\n"
     ]
    }
   ],
   "source": [
    "a= \"Hello world i am python\"\n",
    "for i in a:\n",
    "    if i !=\" \":\n",
    "        print(i)"
   ]
  },
  {
   "cell_type": "code",
   "execution_count": 33,
   "id": "9a84ec75",
   "metadata": {},
   "outputs": [
    {
     "name": "stdout",
     "output_type": "stream",
     "text": [
      "H.e.l.l.o.w.o.r.l.d.i.a.m.p.y.t.h.o.n."
     ]
    }
   ],
   "source": [
    "a= \"Hello world i am python\"\n",
    "for i in a:\n",
    "    if i !=\" \":\n",
    "        print(i,end=\".\")"
   ]
  },
  {
   "cell_type": "code",
   "execution_count": 34,
   "id": "0d038063",
   "metadata": {},
   "outputs": [
    {
     "name": "stdout",
     "output_type": "stream",
     "text": [
      "Helloworldiampython"
     ]
    }
   ],
   "source": [
    "a= \"Hello world i am python\"\n",
    "for i in a:\n",
    "    if i !=\" \":\n",
    "        print(i,end=\"\")"
   ]
  },
  {
   "cell_type": "code",
   "execution_count": null,
   "id": "b0aa20b8",
   "metadata": {},
   "outputs": [],
   "source": [
    "# control statement\n",
    "# break\n",
    "# continue\n",
    "# pass"
   ]
  },
  {
   "cell_type": "code",
   "execution_count": 35,
   "id": "9494d739",
   "metadata": {},
   "outputs": [
    {
     "name": "stdout",
     "output_type": "stream",
     "text": [
      "0\n",
      "1\n",
      "2\n",
      "3\n",
      "4\n"
     ]
    }
   ],
   "source": [
    "# break statement\n",
    "for i in range(10):\n",
    "    if i ==5:\n",
    "        break\n",
    "    else:\n",
    "        print(i)"
   ]
  },
  {
   "cell_type": "code",
   "execution_count": 36,
   "id": "24cfda97",
   "metadata": {},
   "outputs": [
    {
     "name": "stdout",
     "output_type": "stream",
     "text": [
      "0\n",
      "1\n",
      "2\n",
      "3\n",
      "4\n",
      "6\n",
      "7\n",
      "8\n",
      "9\n"
     ]
    }
   ],
   "source": [
    "# continue statement\n",
    "for i in range(10):\n",
    "    if i ==5:\n",
    "        continue\n",
    "    else:\n",
    "        print(i)"
   ]
  },
  {
   "cell_type": "code",
   "execution_count": 39,
   "id": "40184390",
   "metadata": {},
   "outputs": [
    {
     "name": "stdout",
     "output_type": "stream",
     "text": [
      "0 1 2 3 4 6 7 8 9 "
     ]
    }
   ],
   "source": [
    "# continue statement\n",
    "for i in range(10):\n",
    "    if i ==5:\n",
    "        continue\n",
    "    else:\n",
    "        print(i, end = \" \")"
   ]
  },
  {
   "cell_type": "code",
   "execution_count": 43,
   "id": "861da0a8",
   "metadata": {},
   "outputs": [
    {
     "name": "stdout",
     "output_type": "stream",
     "text": [
      "Helloworldiampython"
     ]
    }
   ],
   "source": [
    "a= \"Hello world i am python\"\n",
    "for i in a:\n",
    "    if i ==\" \":\n",
    "        continue\n",
    "    print(i,end=\"\")"
   ]
  },
  {
   "cell_type": "code",
   "execution_count": null,
   "id": "690d2d69",
   "metadata": {},
   "outputs": [],
   "source": []
  }
 ],
 "metadata": {
  "kernelspec": {
   "display_name": "Python 3 (ipykernel)",
   "language": "python",
   "name": "python3"
  },
  "language_info": {
   "codemirror_mode": {
    "name": "ipython",
    "version": 3
   },
   "file_extension": ".py",
   "mimetype": "text/x-python",
   "name": "python",
   "nbconvert_exporter": "python",
   "pygments_lexer": "ipython3",
   "version": "3.9.7"
  }
 },
 "nbformat": 4,
 "nbformat_minor": 5
}
