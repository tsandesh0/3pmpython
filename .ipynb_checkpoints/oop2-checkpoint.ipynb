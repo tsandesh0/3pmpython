{
 "cells": [
  {
   "cell_type": "code",
   "execution_count": 2,
   "id": "830cf2f9",
   "metadata": {},
   "outputs": [
    {
     "name": "stdout",
     "output_type": "stream",
     "text": [
      "Ram\n"
     ]
    }
   ],
   "source": [
    "class Information:\n",
    "    def __init__(self,name,age,add):\n",
    "        self.name=name\n",
    "        self.age=age\n",
    "        self.add=add\n",
    "        \n",
    "        \n",
    "    def __str__(self):\n",
    "        return self.name\n",
    "    \n",
    "obj=Information(\"Ram\",34,\"kathmandu\")\n",
    "print(obj)\n"
   ]
  },
  {
   "cell_type": "code",
   "execution_count": 3,
   "id": "bd08ee57",
   "metadata": {},
   "outputs": [
    {
     "name": "stdout",
     "output_type": "stream",
     "text": [
      "<class '__main__.Information'>\n"
     ]
    }
   ],
   "source": [
    "print(type(obj))"
   ]
  },
  {
   "cell_type": "code",
   "execution_count": 7,
   "id": "285ce114",
   "metadata": {},
   "outputs": [
    {
     "name": "stdout",
     "output_type": "stream",
     "text": [
      "Ram 34\n",
      "Ram 34\n",
      "Ram 34\n",
      "<class '__main__.Information'>\n",
      "Ram\n"
     ]
    }
   ],
   "source": [
    "class Information:\n",
    "    def __init__(self,name,age,add):\n",
    "        self.name=name\n",
    "        self.age=age\n",
    "        self.add=add\n",
    "        \n",
    "    def hello(self):\n",
    "        return self.name\n",
    "    \n",
    "    \n",
    "    def __str__(self):\n",
    "        return f\"{self.name} {self.age}\"\n",
    "    \n",
    "obj=Information(\"Ram\",34,\"kathmandu\")\n",
    "print(obj)\n",
    "#print(obj.__str__())\n",
    "#print(str(obj))\n",
    "print(type(obj))\n",
    "print(obj.hello())\n"
   ]
  },
  {
   "cell_type": "code",
   "execution_count": 8,
   "id": "9f11bda9",
   "metadata": {},
   "outputs": [
    {
     "name": "stdout",
     "output_type": "stream",
     "text": [
      "1 5\n"
     ]
    }
   ],
   "source": [
    "class Point:\n",
    "    def __init__(self,x,y):\n",
    "        self.x=x\n",
    "        self.y=y\n",
    "        \n",
    "    def __str__(self):\n",
    "        return f\"{self.x} {self.y}\"\n",
    "    \n",
    "    \n",
    "    def __add__(self,other):\n",
    "        x=self.x + other.x\n",
    "        y=self.y + other.y\n",
    "        return Point(x,y)\n",
    "    \n",
    "    \n",
    "p1=Point(2,3)\n",
    "p2=Point(-1,2)\n",
    "print(p1+p2)"
   ]
  },
  {
   "cell_type": "code",
   "execution_count": 13,
   "id": "33cbab6e",
   "metadata": {},
   "outputs": [
    {
     "name": "stdout",
     "output_type": "stream",
     "text": [
      "THis is init function 1000\n",
      "THis is init function 2500\n",
      "This is add function 3500\n",
      "THis is init function 3500\n",
      "This is str function 3500\n",
      "3500\n"
     ]
    }
   ],
   "source": [
    "class Ecommerce:\n",
    "    def __init__(self,price):\n",
    "            self.price=price\n",
    "            print(\"THis is init function\",self.price)\n",
    "            \n",
    "            \n",
    "    def __str__(self):\n",
    "        print(\"This is str function\",self.price)\n",
    "        return str(self.price)\n",
    "    \n",
    "    def __add__(self,other):\n",
    "        s=self.price + other.price\n",
    "        print(\"This is add function\",s)\n",
    "        return Ecommerce(s)\n",
    "        \n",
    "        \n",
    "p1=Ecommerce(1000)\n",
    "p2=Ecommerce(2500)\n",
    "\n",
    "print(p1+p2)"
   ]
  },
  {
   "cell_type": "code",
   "execution_count": 15,
   "id": "80ac9d39",
   "metadata": {},
   "outputs": [
    {
     "name": "stdout",
     "output_type": "stream",
     "text": [
      "THis is init function 1000\n",
      "THis is init function 2500\n",
      "THis is init function 1000\n",
      "This is add function 3500\n",
      "THis is init function 3500\n",
      "This is add function 4500\n",
      "THis is init function 4500\n",
      "This is str function 4500\n",
      "4500\n"
     ]
    }
   ],
   "source": [
    "class Ecommerce:\n",
    "    def __init__(self,price):\n",
    "            self.price=price\n",
    "            print(\"THis is init function\",self.price)\n",
    "            \n",
    "            \n",
    "    def __str__(self):\n",
    "        print(\"This is str function\",self.price)\n",
    "        return str(self.price)\n",
    "    \n",
    "    def __add__(self,other):\n",
    "        s=self.price + other.price\n",
    "        print(\"This is add function\",s)\n",
    "        return Ecommerce(s)\n",
    "        \n",
    "        \n",
    "p1=Ecommerce(1000)\n",
    "p2=Ecommerce(2500)\n",
    "p3=Ecommerce(1000)\n",
    "\n",
    "print(p1+p2+p3)"
   ]
  },
  {
   "cell_type": "code",
   "execution_count": null,
   "id": "f7dcdb40",
   "metadata": {},
   "outputs": [],
   "source": []
  }
 ],
 "metadata": {
  "kernelspec": {
   "display_name": "Python 3 (ipykernel)",
   "language": "python",
   "name": "python3"
  },
  "language_info": {
   "codemirror_mode": {
    "name": "ipython",
    "version": 3
   },
   "file_extension": ".py",
   "mimetype": "text/x-python",
   "name": "python",
   "nbconvert_exporter": "python",
   "pygments_lexer": "ipython3",
   "version": "3.9.7"
  }
 },
 "nbformat": 4,
 "nbformat_minor": 5
}
