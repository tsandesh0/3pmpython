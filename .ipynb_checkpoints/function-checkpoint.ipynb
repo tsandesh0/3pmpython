{
 "cells": [
  {
   "cell_type": "code",
   "execution_count": 1,
   "id": "4d9db7d2",
   "metadata": {},
   "outputs": [],
   "source": [
    "# # function\n",
    "# def <function_name>():\n",
    "#     <operations>\n",
    "# <function_name>()"
   ]
  },
  {
   "cell_type": "code",
   "execution_count": 3,
   "id": "47d242f6",
   "metadata": {},
   "outputs": [
    {
     "name": "stdout",
     "output_type": "stream",
     "text": [
      "hello world\n"
     ]
    }
   ],
   "source": [
    "def hello():\n",
    "    print(\"hello world\")\n",
    "\n",
    "hello()"
   ]
  },
  {
   "cell_type": "code",
   "execution_count": 4,
   "id": "af290c47",
   "metadata": {},
   "outputs": [
    {
     "name": "stdout",
     "output_type": "stream",
     "text": [
      "Enter l= 2\n",
      "Enter b= 3\n",
      "6\n"
     ]
    }
   ],
   "source": [
    "def cal():\n",
    "    l=int(input(\"Enter l= \"))    #local variable\n",
    "    b=int(input(\"Enter b= \"))    #local variable\n",
    "    a=l*b\n",
    "    print(a)\n",
    "    \n",
    "cal()"
   ]
  },
  {
   "cell_type": "code",
   "execution_count": 5,
   "id": "a04214dd",
   "metadata": {},
   "outputs": [
    {
     "name": "stdout",
     "output_type": "stream",
     "text": [
      "Enter l= 3\n",
      "Enter b= 4\n",
      "12\n"
     ]
    }
   ],
   "source": [
    "cal()"
   ]
  },
  {
   "cell_type": "code",
   "execution_count": 7,
   "id": "811d6e99",
   "metadata": {},
   "outputs": [
    {
     "name": "stdout",
     "output_type": "stream",
     "text": [
      "Enter l= 4\n",
      "Enter b= 5\n",
      "20\n",
      "4 5\n"
     ]
    }
   ],
   "source": [
    "l=int(input(\"Enter l= \"))    #global variable\n",
    "b=int(input(\"Enter b= \"))    #global variable\n",
    "\n",
    "def cal():\n",
    "    a=l*b\n",
    "    print(a)\n",
    "    \n",
    "cal()\n",
    "print(l,b)"
   ]
  },
  {
   "cell_type": "code",
   "execution_count": 8,
   "id": "3d8fbaf0",
   "metadata": {},
   "outputs": [
    {
     "name": "stdout",
     "output_type": "stream",
     "text": [
      "Enter n= 2\n",
      "Enter l= 3\n",
      "Enter b= 3\n",
      "9\n",
      "Enter l= 2\n",
      "Enter b= 5\n",
      "10\n"
     ]
    }
   ],
   "source": [
    "def cal():\n",
    "    l=int(input(\"Enter l= \"))    #local variable\n",
    "    b=int(input(\"Enter b= \"))    #local variable\n",
    "    a=l*b\n",
    "    print(a)\n",
    "\n",
    "    \n",
    "n=int(input(\"Enter n= \"))\n",
    "for i in range(n):\n",
    "    cal()"
   ]
  },
  {
   "cell_type": "code",
   "execution_count": 9,
   "id": "e777ac1d",
   "metadata": {},
   "outputs": [
    {
     "name": "stdout",
     "output_type": "stream",
     "text": [
      "hello world\n"
     ]
    }
   ],
   "source": [
    "#function with argument\n",
    "\n",
    "def info(x):             # x=paramater , hello world= argument\n",
    "    print(x)\n",
    "\n",
    "info(\"hello world\")"
   ]
  },
  {
   "cell_type": "code",
   "execution_count": 10,
   "id": "77ef78e5",
   "metadata": {},
   "outputs": [
    {
     "name": "stdout",
     "output_type": "stream",
     "text": [
      "50\n"
     ]
    }
   ],
   "source": [
    "def cal(l,b):\n",
    "    a=l*b\n",
    "    print(a)\n",
    "    \n",
    "cal(10,5)"
   ]
  },
  {
   "cell_type": "code",
   "execution_count": 11,
   "id": "bbccda92",
   "metadata": {},
   "outputs": [
    {
     "name": "stdout",
     "output_type": "stream",
     "text": [
      "Enter a l= 2\n",
      "Enter a b= 3\n",
      "6\n"
     ]
    }
   ],
   "source": [
    "def cal(l,b):\n",
    "    a=l*b\n",
    "    print(a)\n",
    "    \n",
    "l=int(input(\"Enter a l= \"))\n",
    "b=int(input(\"Enter a b= \"))\n",
    "\n",
    "cal(l,b)"
   ]
  },
  {
   "cell_type": "code",
   "execution_count": 12,
   "id": "d36a50f9",
   "metadata": {},
   "outputs": [
    {
     "name": "stdout",
     "output_type": "stream",
     "text": [
      "Enter a l= 2\n",
      "Enter a b= 3\n",
      "6\n"
     ]
    }
   ],
   "source": [
    "def cal(x,y):\n",
    "    a=x*y\n",
    "    print(a)\n",
    "    \n",
    "l=int(input(\"Enter a l= \"))\n",
    "b=int(input(\"Enter a b= \"))\n",
    "\n",
    "cal(l,b)"
   ]
  },
  {
   "cell_type": "code",
   "execution_count": 13,
   "id": "5ddd6556",
   "metadata": {},
   "outputs": [
    {
     "name": "stdout",
     "output_type": "stream",
     "text": [
      "c\n",
      "java\n",
      "Nepali\n",
      "python\n"
     ]
    }
   ],
   "source": [
    "def language(lan=\"python\"):\n",
    "    print(lan)\n",
    "    \n",
    "    \n",
    "language(\"c\")\n",
    "language(\"java\")\n",
    "language(\"Nepali\")\n",
    "language()"
   ]
  },
  {
   "cell_type": "code",
   "execution_count": 14,
   "id": "58286ae4",
   "metadata": {},
   "outputs": [
    {
     "name": "stdout",
     "output_type": "stream",
     "text": [
      "hello\n"
     ]
    }
   ],
   "source": [
    "def hello():\n",
    "    x=\"hello\"\n",
    "    return x\n",
    "\n",
    "print(hello())"
   ]
  },
  {
   "cell_type": "code",
   "execution_count": 17,
   "id": "78695352",
   "metadata": {},
   "outputs": [
    {
     "name": "stdout",
     "output_type": "stream",
     "text": [
      "hello World\n"
     ]
    }
   ],
   "source": [
    "def hello():\n",
    "    x=\"hello\"\n",
    "    return x\n",
    "\n",
    "y=hello()\n",
    "print(y+\" World\")"
   ]
  },
  {
   "cell_type": "code",
   "execution_count": 18,
   "id": "8f554ee3",
   "metadata": {},
   "outputs": [
    {
     "name": "stdout",
     "output_type": "stream",
     "text": [
      "40\n"
     ]
    }
   ],
   "source": [
    "def area():\n",
    "    l=10\n",
    "    b=2\n",
    "    a=l*b\n",
    "    return a\n",
    "\n",
    "ar=area()\n",
    "h=2\n",
    "v=ar*h\n",
    "print(v)"
   ]
  },
  {
   "cell_type": "code",
   "execution_count": null,
   "id": "3d9f3706",
   "metadata": {},
   "outputs": [],
   "source": [
    "#WAP to create a calculator using return type function."
   ]
  }
 ],
 "metadata": {
  "kernelspec": {
   "display_name": "Python 3 (ipykernel)",
   "language": "python",
   "name": "python3"
  },
  "language_info": {
   "codemirror_mode": {
    "name": "ipython",
    "version": 3
   },
   "file_extension": ".py",
   "mimetype": "text/x-python",
   "name": "python",
   "nbconvert_exporter": "python",
   "pygments_lexer": "ipython3",
   "version": "3.9.7"
  }
 },
 "nbformat": 4,
 "nbformat_minor": 5
}
