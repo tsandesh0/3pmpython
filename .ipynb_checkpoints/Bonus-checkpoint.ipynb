{
 "cells": [
  {
   "cell_type": "code",
   "execution_count": 1,
   "id": "f56cece4",
   "metadata": {},
   "outputs": [
    {
     "name": "stdout",
     "output_type": "stream",
     "text": [
      "Hello world\n"
     ]
    }
   ],
   "source": [
    "#fuction inside function\n",
    "\n",
    "def main():\n",
    "    value=\"Hello world\"\n",
    "    def inner_function():\n",
    "        \n",
    "        print(value)\n",
    "    return inner_function()\n",
    "\n",
    "\n",
    "main()"
   ]
  },
  {
   "cell_type": "code",
   "execution_count": 6,
   "id": "0a83e37c",
   "metadata": {},
   "outputs": [
    {
     "name": "stdout",
     "output_type": "stream",
     "text": [
      "Hello world\n"
     ]
    }
   ],
   "source": [
    "\n",
    "value=\"Hello world\"\n",
    "\n",
    "def main():\n",
    "    def inner_function():\n",
    "        print(value)\n",
    "    return inner_function()\n",
    "\n",
    "\n",
    "main()"
   ]
  },
  {
   "cell_type": "code",
   "execution_count": 5,
   "id": "31ee7ba2",
   "metadata": {},
   "outputs": [
    {
     "name": "stdout",
     "output_type": "stream",
     "text": [
      "Hello world\n"
     ]
    }
   ],
   "source": [
    "def outer_function(fun):\n",
    "    \n",
    "    def inner_function():\n",
    "        x=fun()\n",
    "    return inner_function()\n",
    "\n",
    "@outer_function\n",
    "def hello():\n",
    "    print(\"Hello world\")\n",
    "    \n",
    "    "
   ]
  },
  {
   "cell_type": "code",
   "execution_count": 11,
   "id": "9f324d35",
   "metadata": {},
   "outputs": [
    {
     "name": "stdout",
     "output_type": "stream",
     "text": [
      "HELLLO WORLD\n"
     ]
    }
   ],
   "source": [
    "def strings(function):\n",
    "    def wrapper():\n",
    "        fun=function()\n",
    "        x=fun.upper()\n",
    "        return x\n",
    "    return wrapper\n",
    "\n",
    "@strings\n",
    "def info():\n",
    "    return \"Helllo world\"\n",
    "\n",
    "print(info())"
   ]
  },
  {
   "cell_type": "code",
   "execution_count": 12,
   "id": "a6ccb370",
   "metadata": {},
   "outputs": [
    {
     "name": "stdout",
     "output_type": "stream",
     "text": [
      "[0, 1, 2, 3, 4, 5, 6, 7, 8, 9, 10, 11, 12, 13, 14, 15, 16, 17, 18, 19]\n"
     ]
    }
   ],
   "source": [
    "#comprehensions: LIST and DICTIONARY\n",
    "\n",
    "a=[]\n",
    "for i in range(0,20):\n",
    "    a.append(i)\n",
    "print(a)"
   ]
  },
  {
   "cell_type": "code",
   "execution_count": 14,
   "id": "b4ad64af",
   "metadata": {},
   "outputs": [
    {
     "data": {
      "text/plain": [
       "[0, 1, 2, 3, 4, 5, 6, 7, 8, 9, 10, 11, 12, 13, 14, 15, 16, 17, 18, 19]"
      ]
     },
     "execution_count": 14,
     "metadata": {},
     "output_type": "execute_result"
    }
   ],
   "source": [
    "[i for i in range(0,20)]"
   ]
  },
  {
   "cell_type": "code",
   "execution_count": 15,
   "id": "a342784a",
   "metadata": {},
   "outputs": [
    {
     "data": {
      "text/plain": [
       "[0, 2, 4, 6, 8, 10, 12, 14, 16, 18]"
      ]
     },
     "execution_count": 15,
     "metadata": {},
     "output_type": "execute_result"
    }
   ],
   "source": [
    "[i for i in range(0,20) if i%2==0]"
   ]
  },
  {
   "cell_type": "code",
   "execution_count": 16,
   "id": "c283b646",
   "metadata": {},
   "outputs": [
    {
     "data": {
      "text/plain": [
       "[234, 432, 74574, 3636]"
      ]
     },
     "execution_count": 16,
     "metadata": {},
     "output_type": "execute_result"
    }
   ],
   "source": [
    "a=[234,432,52546,523523,25634,2,2423423,634,223,77675,34636,74574,3636,6467]\n",
    "[i for i in a if i%3==0]"
   ]
  },
  {
   "cell_type": "code",
   "execution_count": 17,
   "id": "d57d9549",
   "metadata": {},
   "outputs": [
    {
     "name": "stdout",
     "output_type": "stream",
     "text": [
      "['apple', 'animal']\n"
     ]
    }
   ],
   "source": [
    "a=['apple','ram','hari','shyam','sita','gita','koteswor','kathmandu','animal']\n",
    "b=[i for i in a if i[0]=='a']\n",
    "print(b)\n"
   ]
  },
  {
   "cell_type": "code",
   "execution_count": 18,
   "id": "a11d6736",
   "metadata": {},
   "outputs": [
    {
     "data": {
      "text/plain": [
       "{1: 1, 2: 4, 3: 9, 4: 16, 5: 25, 6: 36, 7: 49, 8: 64, 9: 81, 10: 100}"
      ]
     },
     "execution_count": 18,
     "metadata": {},
     "output_type": "execute_result"
    }
   ],
   "source": [
    "d={i: i**2 for i in range(1,11)}\n",
    "d"
   ]
  },
  {
   "cell_type": "code",
   "execution_count": 20,
   "id": "2ecbd1e6",
   "metadata": {},
   "outputs": [
    {
     "data": {
      "text/plain": [
       "{'apple': 'APPLE',\n",
       " 'ram': 'RAM',\n",
       " 'hari': 'HARI',\n",
       " 'shyam': 'SHYAM',\n",
       " 'sita': 'SITA',\n",
       " 'gita': 'GITA',\n",
       " 'koteswor': 'KOTESWOR',\n",
       " 'kathmandu': 'KATHMANDU',\n",
       " 'animal': 'ANIMAL'}"
      ]
     },
     "execution_count": 20,
     "metadata": {},
     "output_type": "execute_result"
    }
   ],
   "source": [
    "a=['apple','ram','hari','shyam','sita','gita','koteswor','kathmandu','animal']\n",
    "d={i: i.upper() for i in a}\n",
    "d"
   ]
  },
  {
   "cell_type": "code",
   "execution_count": 21,
   "id": "ce8bf8cb",
   "metadata": {},
   "outputs": [
    {
     "name": "stdout",
     "output_type": "stream",
     "text": [
      "2022-04-26 15:52:46.625972\n"
     ]
    }
   ],
   "source": [
    "import datetime\n",
    "\n",
    "x=datetime.datetime.now()\n",
    "\n",
    "print(x)"
   ]
  },
  {
   "cell_type": "code",
   "execution_count": 22,
   "id": "8ae71748",
   "metadata": {},
   "outputs": [
    {
     "name": "stdout",
     "output_type": "stream",
     "text": [
      "2022\n",
      "Tue Apr 26 15:54:31 2022\n"
     ]
    }
   ],
   "source": [
    "import datetime\n",
    "\n",
    "x=datetime.datetime.now()\n",
    "\n",
    "print(x.year)\n",
    "print(x.strftime('%c'))"
   ]
  },
  {
   "cell_type": "code",
   "execution_count": 24,
   "id": "830cd7db",
   "metadata": {},
   "outputs": [
    {
     "name": "stdout",
     "output_type": "stream",
     "text": [
      "['apple', 'animal']\n",
      "0:00:00\n"
     ]
    }
   ],
   "source": [
    "import datetime\n",
    "\n",
    "x=datetime.datetime.now()\n",
    "\n",
    "a=['apple','ram','hari','shyam','sita','gita','koteswor','kathmandu','animal']\n",
    "b=[i for i in a if i[0]=='a']\n",
    "print(b)\n",
    "\n",
    "y=datetime.datetime.now()\n",
    "\n",
    "print(y-x)\n"
   ]
  },
  {
   "cell_type": "code",
   "execution_count": null,
   "id": "9321b34e",
   "metadata": {},
   "outputs": [],
   "source": []
  }
 ],
 "metadata": {
  "kernelspec": {
   "display_name": "Python 3 (ipykernel)",
   "language": "python",
   "name": "python3"
  },
  "language_info": {
   "codemirror_mode": {
    "name": "ipython",
    "version": 3
   },
   "file_extension": ".py",
   "mimetype": "text/x-python",
   "name": "python",
   "nbconvert_exporter": "python",
   "pygments_lexer": "ipython3",
   "version": "3.9.7"
  }
 },
 "nbformat": 4,
 "nbformat_minor": 5
}
