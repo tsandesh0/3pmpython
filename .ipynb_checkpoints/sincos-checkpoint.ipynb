{
 "cells": [
  {
   "cell_type": "code",
   "execution_count": 3,
   "id": "93ba20b7",
   "metadata": {},
   "outputs": [
    {
     "name": "stdout",
     "output_type": "stream",
     "text": [
      "Enter a= 2\n",
      "Enter b= 3\n",
      "Enter + - * / =+\n",
      "5\n",
      "Enter y for more cal or any key to cancel: 5\n"
     ]
    }
   ],
   "source": [
    "def add(a,b):\n",
    "    return a+b\n",
    "\n",
    "def sub(a,b):\n",
    "    return a-b\n",
    "\n",
    "def mul(a,b):\n",
    "    return a*b\n",
    "\n",
    "def div(a,b):\n",
    "    return a/b\n",
    "\n",
    "def cal():\n",
    "    a=int(input(\"Enter a= \"))\n",
    "    b=int(input(\"Enter b= \"))\n",
    "    o=input(\"Enter + - * / =\")\n",
    "    \n",
    "    if o==\"+\":\n",
    "        print(add(a,b))\n",
    "    elif o==\"-\":\n",
    "        print(sub(a,b))\n",
    "    elif o==\"*\":\n",
    "        print(mul(a,b))\n",
    "    elif o==\"/\":\n",
    "        print(div(a,b))\n",
    "    else:\n",
    "        print(\"invalid operations\")\n",
    "        \n",
    "    x=input(\"Enter y for more cal or any key to cancel: \")\n",
    "    if x=='y':\n",
    "        cal()\n",
    "        \n",
    "cal()\n",
    "    "
   ]
  },
  {
   "cell_type": "code",
   "execution_count": 1,
   "id": "12c28c68",
   "metadata": {},
   "outputs": [
    {
     "name": "stdout",
     "output_type": "stream",
     "text": [
      "50\n",
      "100\n"
     ]
    }
   ],
   "source": [
    "def cal():\n",
    "    l=10\n",
    "    b=5\n",
    "    h=2\n",
    "    a=l*b\n",
    "    v=a*h\n",
    "    return a,v\n",
    "\n",
    "area, volume= cal()\n",
    "print(area)\n",
    "print(volume)"
   ]
  },
  {
   "cell_type": "code",
   "execution_count": 3,
   "id": "30747f38",
   "metadata": {},
   "outputs": [
    {
     "name": "stdout",
     "output_type": "stream",
     "text": [
      "enter n = 2\n",
      "Enter x= 30\n",
      "Enter x= 20\n",
      "50\n"
     ]
    }
   ],
   "source": [
    "s=0\n",
    "n=int(input(\"enter n = \"))\n",
    "def summ():\n",
    "    global s\n",
    "    for i in range(n):\n",
    "        x=int(input(\"Enter x= \"))\n",
    "        s=s+x\n",
    "        \n",
    "summ()\n",
    "print(s)\n",
    "    "
   ]
  },
  {
   "cell_type": "code",
   "execution_count": 6,
   "id": "dbfc7823",
   "metadata": {},
   "outputs": [
    {
     "name": "stdout",
     "output_type": "stream",
     "text": [
      "Enter r = 20\n",
      "1256.6370614359173\n"
     ]
    }
   ],
   "source": [
    "# math function\n",
    "import math as m\n",
    "p=m.pi\n",
    "r=int(input(\"Enter r = \"))\n",
    "\n",
    "a=m.pi*m.pow(r,2)\n",
    "print(a)"
   ]
  },
  {
   "cell_type": "code",
   "execution_count": 8,
   "id": "f425cda8",
   "metadata": {},
   "outputs": [
    {
     "name": "stdout",
     "output_type": "stream",
     "text": [
      "0.8939966636005579\n",
      "-0.4480736161291701\n",
      "-1.995200412208242\n"
     ]
    }
   ],
   "source": [
    "print(m.sin(90))\n",
    "print(m.cos(90))\n",
    "print(m.tan(90))\n"
   ]
  },
  {
   "cell_type": "code",
   "execution_count": 9,
   "id": "4539e477",
   "metadata": {},
   "outputs": [
    {
     "name": "stdout",
     "output_type": "stream",
     "text": [
      "1.0\n",
      "6.123233995736766e-17\n",
      "1.633123935319537e+16\n"
     ]
    }
   ],
   "source": [
    "print(m.sin(m.pi/2))\n",
    "print(m.cos(m.pi/2))\n",
    "print(m.tan(m.pi/2))\n"
   ]
  },
  {
   "cell_type": "code",
   "execution_count": null,
   "id": "e10c99dc",
   "metadata": {},
   "outputs": [],
   "source": []
  }
 ],
 "metadata": {
  "kernelspec": {
   "display_name": "Python 3 (ipykernel)",
   "language": "python",
   "name": "python3"
  },
  "language_info": {
   "codemirror_mode": {
    "name": "ipython",
    "version": 3
   },
   "file_extension": ".py",
   "mimetype": "text/x-python",
   "name": "python",
   "nbconvert_exporter": "python",
   "pygments_lexer": "ipython3",
   "version": "3.9.7"
  }
 },
 "nbformat": 4,
 "nbformat_minor": 5
}
