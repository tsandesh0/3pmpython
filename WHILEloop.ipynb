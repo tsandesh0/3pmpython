{
 "cells": [
  {
   "cell_type": "code",
   "execution_count": 1,
   "id": "354a4c58",
   "metadata": {},
   "outputs": [],
   "source": [
    "#while loop\n"
   ]
  },
  {
   "cell_type": "code",
   "execution_count": null,
   "id": "be499a7e",
   "metadata": {},
   "outputs": [],
   "source": [
    "# while True:\n",
    "#     print(\"hello world\")"
   ]
  },
  {
   "cell_type": "code",
   "execution_count": null,
   "id": "24569309",
   "metadata": {},
   "outputs": [],
   "source": [
    "# while <condition>:\n",
    "#     <operations>"
   ]
  },
  {
   "cell_type": "code",
   "execution_count": 2,
   "id": "0418c211",
   "metadata": {},
   "outputs": [
    {
     "name": "stdout",
     "output_type": "stream",
     "text": [
      "0 hello world\n",
      "1 hello world\n",
      "2 hello world\n",
      "3 hello world\n",
      "4 hello world\n"
     ]
    }
   ],
   "source": [
    "a=0\n",
    "while a<5:\n",
    "    print(a,\"hello world\")\n",
    "    a=a+1"
   ]
  },
  {
   "cell_type": "code",
   "execution_count": 5,
   "id": "5d405f44",
   "metadata": {},
   "outputs": [
    {
     "name": "stdout",
     "output_type": "stream",
     "text": [
      "1 hello world\n",
      "1.5 hello world\n",
      "2.0 hello world\n",
      "2.5 hello world\n",
      "3.0 hello world\n",
      "3.5 hello world\n",
      "4.0 hello world\n",
      "4.5 hello world\n",
      "5.0 hello world\n"
     ]
    }
   ],
   "source": [
    "a=1\n",
    "while a<=5:\n",
    "    print(a,\"hello world\")\n",
    "    a=a+.5"
   ]
  },
  {
   "cell_type": "code",
   "execution_count": 6,
   "id": "31463b4d",
   "metadata": {},
   "outputs": [
    {
     "name": "stdout",
     "output_type": "stream",
     "text": [
      "enter value of n: 4\n",
      "4\n",
      "8\n",
      "12\n",
      "16\n",
      "20\n",
      "24\n",
      "28\n",
      "32\n",
      "36\n",
      "40\n"
     ]
    }
   ],
   "source": [
    "a=1\n",
    "n=int(input(\"enter value of n: \"))\n",
    "while a<=10:\n",
    "    print(n*a)\n",
    "    a=a+1"
   ]
  },
  {
   "cell_type": "code",
   "execution_count": 7,
   "id": "7f460e1d",
   "metadata": {},
   "outputs": [
    {
     "name": "stdout",
     "output_type": "stream",
     "text": [
      "enter value of n: 3\n",
      "3 * 1 = 3\n",
      "3 * 2 = 6\n",
      "3 * 3 = 9\n",
      "3 * 4 = 12\n",
      "3 * 5 = 15\n",
      "3 * 6 = 18\n",
      "3 * 7 = 21\n",
      "3 * 8 = 24\n",
      "3 * 9 = 27\n",
      "3 * 10 = 30\n"
     ]
    }
   ],
   "source": [
    "a=1\n",
    "n=int(input(\"enter value of n: \"))\n",
    "while a<=10:\n",
    "    print(n,\"*\",a,\"=\",n*a)\n",
    "    a=a+1"
   ]
  },
  {
   "cell_type": "code",
   "execution_count": 11,
   "id": "757b0ad3",
   "metadata": {},
   "outputs": [
    {
     "name": "stdout",
     "output_type": "stream",
     "text": [
      "Enter a value of n: 3\n",
      "Enter value of x: 30\n",
      "Enter value of x: 2\n",
      "Enter value of x: 18\n",
      "the sum is:  50\n"
     ]
    }
   ],
   "source": [
    "s=0\n",
    "a=0\n",
    "n=int(input(\"Enter a value of n: \"))\n",
    "while a<n:\n",
    "    x=int(input(\"Enter value of x: \"))\n",
    "    s=s+x\n",
    "    a+=1\n",
    "print(\"the sum is: \",s)"
   ]
  },
  {
   "cell_type": "code",
   "execution_count": 18,
   "id": "0715704d",
   "metadata": {},
   "outputs": [
    {
     "name": "stdout",
     "output_type": "stream",
     "text": [
      "Enter a value of n: 2\n",
      "Enter string: aaa\n",
      "Enter string: bbb\n",
      "The string: \n",
      " aaa\n",
      "bbb\n",
      "\n"
     ]
    }
   ],
   "source": [
    "s=str()\n",
    "a=0\n",
    "n=int(input(\"Enter a value of n: \"))\n",
    "while a<n:\n",
    "    x=input(\"Enter string: \")\n",
    "    s=s+x+\"\\n\"\n",
    "    a+=1\n",
    "print(\"The string:\\n\",s)"
   ]
  },
  {
   "cell_type": "code",
   "execution_count": 21,
   "id": "adc3204f",
   "metadata": {},
   "outputs": [
    {
     "name": "stdout",
     "output_type": "stream",
     "text": [
      "enter a num:4\n",
      "24\n"
     ]
    }
   ],
   "source": [
    "fac=1\n",
    "a=1\n",
    "n=int(input(\"enter a num:\"))\n",
    "while a<=n:\n",
    "    fac=fac*a\n",
    "    a=a+1\n",
    "    \n",
    "print(fac)"
   ]
  },
  {
   "cell_type": "code",
   "execution_count": 2,
   "id": "c30eda28",
   "metadata": {},
   "outputs": [
    {
     "name": "stdout",
     "output_type": "stream",
     "text": [
      "p y t h o n "
     ]
    }
   ],
   "source": [
    "a=\"python\"\n",
    "l=len(a)\n",
    "i=0\n",
    "while i<l:\n",
    "    print(a[i],end=\" \")\n",
    "    i=i+1"
   ]
  },
  {
   "cell_type": "code",
   "execution_count": 3,
   "id": "6771af28",
   "metadata": {},
   "outputs": [
    {
     "name": "stdout",
     "output_type": "stream",
     "text": [
      "t\n"
     ]
    }
   ],
   "source": [
    "a=\"python\"\n",
    "print(a[2])"
   ]
  },
  {
   "cell_type": "code",
   "execution_count": 5,
   "id": "6a8d67d4",
   "metadata": {},
   "outputs": [
    {
     "name": "stdout",
     "output_type": "stream",
     "text": [
      "pythonworldpractise"
     ]
    }
   ],
   "source": [
    "a=\"python world practise\"\n",
    "l=len(a)\n",
    "i=0\n",
    "while i<l:\n",
    "    if a[i] !=\" \":\n",
    "        print(a[i],end=\"\")\n",
    "    i=i+1"
   ]
  },
  {
   "cell_type": "code",
   "execution_count": 10,
   "id": "1df240dd",
   "metadata": {},
   "outputs": [
    {
     "name": "stdout",
     "output_type": "stream",
     "text": [
      "python"
     ]
    }
   ],
   "source": [
    "a=\"python world practise\"\n",
    "l=len(a)\n",
    "i=0\n",
    "while i<l:\n",
    "    if a[i] ==\" \":\n",
    "            break\n",
    "            \n",
    "    print(a[i],end=\"\")\n",
    "    i=i+1"
   ]
  },
  {
   "cell_type": "code",
   "execution_count": 1,
   "id": "1138886e",
   "metadata": {},
   "outputs": [
    {
     "name": "stdout",
     "output_type": "stream",
     "text": [
      "pythonworldpractise"
     ]
    }
   ],
   "source": [
    "a=\"python world practise\"\n",
    "l=len(a)\n",
    "i=0\n",
    "while i<l:\n",
    "    if a[i] ==\" \":\n",
    "            i=i+1\n",
    "            continue\n",
    "            \n",
    "    print(a[i],end=\"\")\n",
    "    \n",
    "    i=i+1"
   ]
  },
  {
   "cell_type": "code",
   "execution_count": null,
   "id": "b4278848",
   "metadata": {},
   "outputs": [],
   "source": [
    "#write a program to detect if the given number is prime or composite\n",
    "#prime= 2,3,5,7,11,13,17,19,....\n",
    "#composite number= 4,6,8,9,10,..."
   ]
  }
 ],
 "metadata": {
  "kernelspec": {
   "display_name": "Python 3 (ipykernel)",
   "language": "python",
   "name": "python3"
  },
  "language_info": {
   "codemirror_mode": {
    "name": "ipython",
    "version": 3
   },
   "file_extension": ".py",
   "mimetype": "text/x-python",
   "name": "python",
   "nbconvert_exporter": "python",
   "pygments_lexer": "ipython3",
   "version": "3.9.7"
  }
 },
 "nbformat": 4,
 "nbformat_minor": 5
}
