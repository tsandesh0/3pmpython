{
 "cells": [
  {
   "cell_type": "code",
   "execution_count": 5,
   "id": "65f5aac9",
   "metadata": {},
   "outputs": [
    {
     "name": "stdout",
     "output_type": "stream",
     "text": [
      "(1, 2, 3, 4, 5, 6)\n",
      "<class 'tuple'>\n"
     ]
    }
   ],
   "source": [
    "#tuple\n",
    "a=tuple()\n",
    "a=(1,2,3,4,5,6,)\n",
    "print(a)\n",
    "print(type(a))"
   ]
  },
  {
   "cell_type": "code",
   "execution_count": 4,
   "id": "7edcce54",
   "metadata": {},
   "outputs": [
    {
     "name": "stdout",
     "output_type": "stream",
     "text": [
      "<class 'tuple'>\n",
      "<class 'tuple'>\n"
     ]
    }
   ],
   "source": [
    "a=(1,)\n",
    "b=(\"Apple\",)\n",
    "print(type(a))\n",
    "print(type(b))"
   ]
  },
  {
   "cell_type": "code",
   "execution_count": 7,
   "id": "04036cc2",
   "metadata": {},
   "outputs": [
    {
     "name": "stdout",
     "output_type": "stream",
     "text": [
      "Apple\n",
      "('Apple', 'Ball', 'Cat', 'Dog')\n",
      "('Apple', 'Cat')\n"
     ]
    }
   ],
   "source": [
    "a=(\"Apple\",\"Ball\",\"Cat\",\"Dog\")\n",
    "print(a[0])\n",
    "print(a[0:4])\n",
    "print(a[0:4:2])"
   ]
  },
  {
   "cell_type": "code",
   "execution_count": 8,
   "id": "fce2ca06",
   "metadata": {},
   "outputs": [
    {
     "name": "stdout",
     "output_type": "stream",
     "text": [
      "('Apple', 'Ball', 'Cat', 'Dog', 'Fish')\n"
     ]
    }
   ],
   "source": [
    "a=(\"Apple\",\"Ball\",\"Cat\",\"Dog\")\n",
    "b=(\"Fish\",)\n",
    "c=a+b\n",
    "print(c)"
   ]
  },
  {
   "cell_type": "code",
   "execution_count": 9,
   "id": "5f306960",
   "metadata": {},
   "outputs": [
    {
     "data": {
      "text/plain": [
       "('Apple', 'Ball', 'Cat', 'Dog', 'Apple', 'Ball', 'Cat', 'Dog')"
      ]
     },
     "execution_count": 9,
     "metadata": {},
     "output_type": "execute_result"
    }
   ],
   "source": [
    "a=(\"Apple\",\"Ball\",\"Cat\",\"Dog\")\n",
    "a*2"
   ]
  },
  {
   "cell_type": "code",
   "execution_count": 10,
   "id": "3c894dc3",
   "metadata": {},
   "outputs": [],
   "source": [
    "# # no append()\n",
    "# # no insert()\n",
    "# no update()\n",
    "# no extend()\n",
    "# no del() remove() pop()"
   ]
  },
  {
   "cell_type": "code",
   "execution_count": 11,
   "id": "ab08c2e5",
   "metadata": {},
   "outputs": [
    {
     "name": "stdout",
     "output_type": "stream",
     "text": [
      "Enter n= 2\n",
      "Enter x= Apple\n",
      "Enter x= Ball\n",
      "('Apple', 'Ball')\n"
     ]
    }
   ],
   "source": [
    "t=tuple()\n",
    "n=int(input(\"Enter n= \"))\n",
    "for i in range(n):\n",
    "    x=input(\"Enter x= \")\n",
    "    t=t+ (x,)\n",
    "    \n",
    "print(t)"
   ]
  },
  {
   "cell_type": "code",
   "execution_count": 13,
   "id": "813a7a1d",
   "metadata": {},
   "outputs": [
    {
     "data": {
      "text/plain": [
       "(10, 20)"
      ]
     },
     "execution_count": 13,
     "metadata": {},
     "output_type": "execute_result"
    }
   ],
   "source": [
    "def cal():\n",
    "    a=10\n",
    "    b=20\n",
    "    return a,b\n",
    "\n",
    "cal()"
   ]
  },
  {
   "cell_type": "code",
   "execution_count": 14,
   "id": "0604c7c7",
   "metadata": {},
   "outputs": [
    {
     "data": {
      "text/plain": [
       "(10, 11, 12)"
      ]
     },
     "execution_count": 14,
     "metadata": {},
     "output_type": "execute_result"
    }
   ],
   "source": [
    "a=10,11,12\n",
    "a"
   ]
  },
  {
   "cell_type": "code",
   "execution_count": 15,
   "id": "617bc5e3",
   "metadata": {},
   "outputs": [
    {
     "data": {
      "text/plain": [
       "('Ball', 'Cat', 'Dog', 'Apple', 'Ball', 'Cat', 'Dog')"
      ]
     },
     "execution_count": 15,
     "metadata": {},
     "output_type": "execute_result"
    }
   ],
   "source": [
    "a=('Apple', 'Ball', 'Cat', 'Dog', 'Apple', 'Ball', 'Cat', 'Dog')\n",
    "b=list(a)\n",
    "del b[0]\n",
    "a=tuple(b)\n",
    "a"
   ]
  },
  {
   "cell_type": "code",
   "execution_count": 17,
   "id": "c0464885",
   "metadata": {},
   "outputs": [
    {
     "data": {
      "text/plain": [
       "(('Ram', 34, 'Kathmandu'), ('shyam', 23, 'Gwarko'), ('hari', 34, 'bhaktapur'))"
      ]
     },
     "execution_count": 17,
     "metadata": {},
     "output_type": "execute_result"
    }
   ],
   "source": [
    "# tuple inside tuple\n",
    "a= ((\"Ram\",34,\"Kathmandu\"),\n",
    "    (\"shyam\",23,\"Gwarko\"),\n",
    "    (\"hari\",34,\"bhaktapur\"))\n",
    "a"
   ]
  },
  {
   "cell_type": "code",
   "execution_count": 19,
   "id": "583cc987",
   "metadata": {},
   "outputs": [
    {
     "name": "stdout",
     "output_type": "stream",
     "text": [
      "(('Ram', 34, 'Kathmandu'), ('shyam', 23, 'Gwarko'), ('hari', 34, 'bhaktapur'), ('Nabin', 32, 'chitwan'))\n"
     ]
    }
   ],
   "source": [
    "a= ((\"Ram\",34,\"Kathmandu\"),\n",
    "    (\"shyam\",23,\"Gwarko\"),\n",
    "    (\"hari\",34,\"bhaktapur\"))\n",
    "b=((\"Nabin\",32,\"chitwan\"),)\n",
    "print(a+b)\n"
   ]
  },
  {
   "cell_type": "code",
   "execution_count": 21,
   "id": "e0ed2dcf",
   "metadata": {},
   "outputs": [],
   "source": [
    "#WAP to create tuple inside tuple"
   ]
  },
  {
   "cell_type": "code",
   "execution_count": 22,
   "id": "1dde0dad",
   "metadata": {},
   "outputs": [
    {
     "data": {
      "text/plain": [
       "[('shyam', 23, 'Gwarko'), ('hari', 34, 'bhaktapur')]"
      ]
     },
     "execution_count": 22,
     "metadata": {},
     "output_type": "execute_result"
    }
   ],
   "source": [
    "a= ((\"Ram\",34,\"Kathmandu\"),\n",
    "    (\"shyam\",23,\"Gwarko\"),\n",
    "    (\"hari\",34,\"bhaktapur\"))\n",
    "b=list(a)\n",
    "del b[0]\n",
    "b"
   ]
  },
  {
   "cell_type": "code",
   "execution_count": 24,
   "id": "7882ef7b",
   "metadata": {},
   "outputs": [
    {
     "data": {
      "text/plain": [
       "[('shyam', 23, 'Gwarko'), ('hari', 34, 'bhaktapur'), ('nabina', 27, 'lamatar')]"
      ]
     },
     "execution_count": 24,
     "metadata": {},
     "output_type": "execute_result"
    }
   ],
   "source": [
    "\n",
    "b.append((\"nabina\",27,\"lamatar\"))\n",
    "b"
   ]
  },
  {
   "cell_type": "code",
   "execution_count": 25,
   "id": "a939cca8",
   "metadata": {},
   "outputs": [
    {
     "data": {
      "text/plain": [
       "('shyam', 23, 'Gwarko')"
      ]
     },
     "execution_count": 25,
     "metadata": {},
     "output_type": "execute_result"
    }
   ],
   "source": [
    "b[0]"
   ]
  },
  {
   "cell_type": "code",
   "execution_count": null,
   "id": "52a9290d",
   "metadata": {},
   "outputs": [],
   "source": [
    "#WAP to convert tuple inside tuple to list inside list and vice versa\n",
    "#WAP to perform CRUD list inside tuple\n",
    "# hint ([])"
   ]
  }
 ],
 "metadata": {
  "kernelspec": {
   "display_name": "Python 3 (ipykernel)",
   "language": "python",
   "name": "python3"
  },
  "language_info": {
   "codemirror_mode": {
    "name": "ipython",
    "version": 3
   },
   "file_extension": ".py",
   "mimetype": "text/x-python",
   "name": "python",
   "nbconvert_exporter": "python",
   "pygments_lexer": "ipython3",
   "version": "3.9.7"
  }
 },
 "nbformat": 4,
 "nbformat_minor": 5
}
