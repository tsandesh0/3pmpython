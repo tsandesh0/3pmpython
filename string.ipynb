{
 "cells": [
  {
   "cell_type": "code",
   "execution_count": 1,
   "id": "3b82f8ba",
   "metadata": {},
   "outputs": [
    {
     "name": "stdout",
     "output_type": "stream",
     "text": [
      "Hello world\n",
      "<class 'str'>\n"
     ]
    }
   ],
   "source": [
    "#string\n",
    "a=\"Hello world\"\n",
    "print(a)\n",
    "print(type(a))"
   ]
  },
  {
   "cell_type": "code",
   "execution_count": 3,
   "id": "40a42118",
   "metadata": {},
   "outputs": [
    {
     "name": "stdout",
     "output_type": "stream",
     "text": [
      "Hello World\n"
     ]
    }
   ],
   "source": [
    "a=\"Hello \"\n",
    "b=\"World\"\n",
    "c=a+b\n",
    "print(c)"
   ]
  },
  {
   "cell_type": "code",
   "execution_count": 4,
   "id": "eb620ec3",
   "metadata": {},
   "outputs": [
    {
     "name": "stdout",
     "output_type": "stream",
     "text": [
      "Hello world\n",
      "Hello world\n",
      "Hello world\n",
      "\n"
     ]
    }
   ],
   "source": [
    "a=\"Hello world\\n\"\n",
    "print(a*3)"
   ]
  },
  {
   "cell_type": "code",
   "execution_count": 5,
   "id": "d4d89946",
   "metadata": {},
   "outputs": [
    {
     "name": "stdout",
     "output_type": "stream",
     "text": [
      "l\n"
     ]
    }
   ],
   "source": [
    "a=\"Hello world\"\n",
    "print(a[2])"
   ]
  },
  {
   "cell_type": "code",
   "execution_count": 9,
   "id": "db30cd4e",
   "metadata": {},
   "outputs": [
    {
     "name": "stdout",
     "output_type": "stream",
     "text": [
      "Hello\n"
     ]
    }
   ],
   "source": [
    "a=\"Hello world\"\n",
    "print(a[0:5])"
   ]
  },
  {
   "cell_type": "code",
   "execution_count": 10,
   "id": "483098cc",
   "metadata": {},
   "outputs": [
    {
     "name": "stdout",
     "output_type": "stream",
     "text": [
      "Hlowr\n"
     ]
    }
   ],
   "source": [
    "a=\"Hello world\"\n",
    "print(a[0:10:2])"
   ]
  },
  {
   "cell_type": "code",
   "execution_count": 11,
   "id": "957e4a8b",
   "metadata": {},
   "outputs": [
    {
     "name": "stdout",
     "output_type": "stream",
     "text": [
      "Hello\n",
      " world\n"
     ]
    }
   ],
   "source": [
    "a=\"Hello world\"\n",
    "b=a[0:5]\n",
    "c=a[5:]\n",
    "print(b)\n",
    "print(c)\n"
   ]
  },
  {
   "cell_type": "code",
   "execution_count": 14,
   "id": "77436470",
   "metadata": {},
   "outputs": [
    {
     "name": "stdout",
     "output_type": "stream",
     "text": [
      "dlroW olleH\n"
     ]
    }
   ],
   "source": [
    "a=\"Hello World\"\n",
    "l=len(a)\n",
    "print(a[l::-1])"
   ]
  },
  {
   "cell_type": "code",
   "execution_count": 18,
   "id": "adb3d56f",
   "metadata": {},
   "outputs": [
    {
     "name": "stdout",
     "output_type": "stream",
     "text": [
      "Enter name= sasas\n",
      "Enter age= 37\n",
      "Enter address= ghf\n",
      "Hello world I am sasas I am from ghf I am 37\n"
     ]
    }
   ],
   "source": [
    "#string formatting\n",
    "name=input(\"Enter name= \")\n",
    "age=int(input(\"Enter age= \"))\n",
    "add= input(\"Enter address= \")\n",
    "\n",
    "info= \"Hello world I am \"+name+\" I am from \"+add+\" I am \"+str(age)+\" years old. \"\n",
    "print(info)"
   ]
  },
  {
   "cell_type": "code",
   "execution_count": 19,
   "id": "39466e64",
   "metadata": {},
   "outputs": [
    {
     "name": "stdout",
     "output_type": "stream",
     "text": [
      "Enter name= asa\n",
      "Enter age= 33\n",
      "Enter address= dada\n",
      "Hello world I am asa . I am from dada . I am 33 years old. \n"
     ]
    }
   ],
   "source": [
    "#string formatting\n",
    "name=input(\"Enter name= \")\n",
    "age=int(input(\"Enter age= \"))\n",
    "add= input(\"Enter address= \")\n",
    "\n",
    "info= f\"Hello world I am {name} . I am from {add} . I am {age} years old. \"\n",
    "print(info)\n",
    "\n"
   ]
  },
  {
   "cell_type": "code",
   "execution_count": 22,
   "id": "e1d7a66b",
   "metadata": {},
   "outputs": [
    {
     "name": "stdout",
     "output_type": "stream",
     "text": [
      "enter n = 1\n",
      "enter name = ddadasd\n",
      "phone = 3523524\n",
      "ddadasd3523524\n"
     ]
    }
   ],
   "source": [
    "s = str()\n",
    "n = int(input('enter n = '))\n",
    "for i in range (n):\n",
    "    name= input(\"enter name = \")\n",
    "    phone = int(input(\"phone = \\n\"))\n",
    "    info = f\"{name}{phone}\"\n",
    "    s= s+info\n",
    "    \n",
    "print(s)"
   ]
  },
  {
   "cell_type": "code",
   "execution_count": 24,
   "id": "1cc7ce30",
   "metadata": {},
   "outputs": [
    {
     "name": "stdout",
     "output_type": "stream",
     "text": [
      "Enter name= ram\n",
      "YES\n",
      "3\n"
     ]
    }
   ],
   "source": [
    "a=\"ram shyam hari sita ram gita  nabin ram\"\n",
    "name=input(\"Enter name= \")\n",
    "if name in a:\n",
    "    print(\"YES\")\n",
    "    print(a.count(name))"
   ]
  },
  {
   "cell_type": "code",
   "execution_count": 26,
   "id": "daccf196",
   "metadata": {},
   "outputs": [
    {
     "data": {
      "text/plain": [
       "'RAM SHYAM HARI SITA RAM GITA  NABIN RAM'"
      ]
     },
     "execution_count": 26,
     "metadata": {},
     "output_type": "execute_result"
    }
   ],
   "source": [
    "a=\"ram shyam hari sita ram gita  nabin ram\"\n",
    "a.upper()\n"
   ]
  },
  {
   "cell_type": "code",
   "execution_count": 34,
   "id": "b1ca0795",
   "metadata": {},
   "outputs": [
    {
     "name": "stdout",
     "output_type": "stream",
     "text": [
      "Enter name= a\n",
      "YES\n",
      "8\n"
     ]
    }
   ],
   "source": [
    "a=\"ram shyam hari sita RAM gita  nabin ram\".lower()\n",
    "name=input(\"Enter name= \").lower()\n",
    "if name in a:\n",
    "    print(\"YES\")\n",
    "    print(a.count(name))"
   ]
  },
  {
   "cell_type": "code",
   "execution_count": 30,
   "id": "f7661184",
   "metadata": {},
   "outputs": [
    {
     "data": {
      "text/plain": [
       "'Ram Shyam Hari Sita Ram Gita  Nabin Ram'"
      ]
     },
     "execution_count": 30,
     "metadata": {},
     "output_type": "execute_result"
    }
   ],
   "source": [
    "a=\"ram shyam hari sita ram gita  nabin ram\"\n",
    "a.title()"
   ]
  },
  {
   "cell_type": "code",
   "execution_count": 33,
   "id": "0e8bb292",
   "metadata": {},
   "outputs": [
    {
     "name": "stdout",
     "output_type": "stream",
     "text": [
      "RAM SHYAM HARI SITA RAM GITA  NABIN RAM\n"
     ]
    }
   ],
   "source": [
    "a=\"ram shyam hari sita ram gita  nabin ram\"\n",
    "a=a.upper()\n",
    "print(a)"
   ]
  },
  {
   "cell_type": "code",
   "execution_count": 35,
   "id": "e6b9ce26",
   "metadata": {},
   "outputs": [
    {
     "name": "stdout",
     "output_type": "stream",
     "text": [
      "Ram shyam hari sita Ram gita  nabin Ram\n"
     ]
    }
   ],
   "source": [
    "a=\"ram shyam hari sita ram gita  nabin ram\"\n",
    "a=a.replace('ram',\"Ram\")\n",
    "print(a)"
   ]
  },
  {
   "cell_type": "code",
   "execution_count": 36,
   "id": "028d557d",
   "metadata": {},
   "outputs": [
    {
     "name": "stdout",
     "output_type": "stream",
     "text": [
      " shyam hari sita  gita  nabin \n"
     ]
    }
   ],
   "source": [
    "a=\"ram shyam hari sita ram gita  nabin ram\"\n",
    "a=a.replace('ram',\"\")\n",
    "print(a)"
   ]
  },
  {
   "cell_type": "code",
   "execution_count": null,
   "id": "34d8716c",
   "metadata": {},
   "outputs": [],
   "source": [
    "# #WAP to develop a billing application using string and loop.\n",
    "# name\n",
    "# price\n",
    "# quantity\n",
    "# total\n",
    "# #grand total"
   ]
  }
 ],
 "metadata": {
  "kernelspec": {
   "display_name": "Python 3 (ipykernel)",
   "language": "python",
   "name": "python3"
  },
  "language_info": {
   "codemirror_mode": {
    "name": "ipython",
    "version": 3
   },
   "file_extension": ".py",
   "mimetype": "text/x-python",
   "name": "python",
   "nbconvert_exporter": "python",
   "pygments_lexer": "ipython3",
   "version": "3.9.7"
  }
 },
 "nbformat": 4,
 "nbformat_minor": 5
}
