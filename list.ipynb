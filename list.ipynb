{
 "cells": [
  {
   "cell_type": "code",
   "execution_count": 1,
   "id": "6c38edfc",
   "metadata": {},
   "outputs": [],
   "source": [
    "# python coolection\n",
    "# list\n",
    "# tuple\n",
    "# dictionary\n",
    "# set\n"
   ]
  },
  {
   "cell_type": "code",
   "execution_count": 2,
   "id": "7d68d84f",
   "metadata": {},
   "outputs": [],
   "source": [
    "# #list\n",
    "# -Indexed\n",
    "# -Ordered\n",
    "# -multiple and duplicate data\n",
    "# -mutable\n"
   ]
  },
  {
   "cell_type": "code",
   "execution_count": 4,
   "id": "faebd0c7",
   "metadata": {},
   "outputs": [
    {
     "name": "stdout",
     "output_type": "stream",
     "text": [
      "5\n",
      "['Apple', 'Ball', 'Cat', 'Dog', 'Fish']\n",
      "<class 'list'>\n"
     ]
    }
   ],
   "source": [
    "#list\n",
    "a=[\"Apple\",\"Ball\",\"Cat\",\"Dog\",\"Fish\"]\n",
    "I=len(a)\n",
    "print(I)\n",
    "print(a)\n",
    "print(type(a))"
   ]
  },
  {
   "cell_type": "code",
   "execution_count": 6,
   "id": "9dfa93ff",
   "metadata": {},
   "outputs": [
    {
     "name": "stdout",
     "output_type": "stream",
     "text": [
      "Ball\n",
      "['Apple', 'Ball', 'Cat', 'Dog']\n",
      "['Apple', 'Cat']\n"
     ]
    }
   ],
   "source": [
    "a=[\"Apple\",\"Ball\",\"Cat\",\"Dog\",\"Fish\"]\n",
    "print(a[1])\n",
    "print(a[0:4])\n",
    "print(a[0:4:2])"
   ]
  },
  {
   "cell_type": "code",
   "execution_count": 9,
   "id": "3c9cd7b0",
   "metadata": {},
   "outputs": [
    {
     "name": "stdout",
     "output_type": "stream",
     "text": [
      "['Apple', 'Ball', 'Cat', 'Dog', 'Fish', 1, 2, 3, 4, 5]\n",
      "[1, 2, 3, 4, 5, 'Apple', 'Ball', 'Cat', 'Dog', 'Fish']\n"
     ]
    }
   ],
   "source": [
    "a=[\"Apple\",\"Ball\",\"Cat\",\"Dog\",\"Fish\"]\n",
    "b=[1,2,3,4,5]\n",
    "c=a+b\n",
    "d=b+a\n",
    "print(c)\n",
    "print(d)"
   ]
  },
  {
   "cell_type": "code",
   "execution_count": 29,
   "id": "1ad66fd6",
   "metadata": {},
   "outputs": [
    {
     "name": "stdout",
     "output_type": "stream",
     "text": [
      "['Apple', 'Ball', 'Cat', 'Dog', 'Fish', 'Apple', 'Ball', 'Cat', 'Dog', 'Fish']\n"
     ]
    }
   ],
   "source": [
    "a=[\"Apple\",\"Ball\",\"Cat\",\"Dog\",\"Fish\"]\n",
    "print(a*2)"
   ]
  },
  {
   "cell_type": "code",
   "execution_count": 10,
   "id": "d77aed01",
   "metadata": {},
   "outputs": [
    {
     "name": "stdout",
     "output_type": "stream",
     "text": [
      "12\n"
     ]
    }
   ],
   "source": [
    "a=[1, 2, 3, 4, 5, 'Apple', 'Ball', 'Cat', 'Dog', 'Fish',1,2]\n",
    "l=len(a)\n",
    "print(l)"
   ]
  },
  {
   "cell_type": "code",
   "execution_count": 13,
   "id": "d889e83d",
   "metadata": {},
   "outputs": [
    {
     "name": "stdout",
     "output_type": "stream",
     "text": [
      "['Ant', 'Ball', 'Cat', 'Dog', 'Fish']\n"
     ]
    }
   ],
   "source": [
    "a=[\"Apple\",\"Ball\",\"Cat\",\"Dog\",\"Fish\"]\n",
    "a[0]=\"Ant\"\n",
    "print(a)"
   ]
  },
  {
   "cell_type": "code",
   "execution_count": 14,
   "id": "993be0ea",
   "metadata": {},
   "outputs": [
    {
     "name": "stdout",
     "output_type": "stream",
     "text": [
      "Enter the value of n= 3\n",
      "Enter x= 60\n",
      "Enter x= 50\n",
      "Enter x= 900\n",
      "[60, 50, 900]\n"
     ]
    }
   ],
   "source": [
    "l=list()\n",
    "\n",
    "n=int(input(\"Enter the value of n= \"))\n",
    "for i in range(n):\n",
    "    x=int(input(\"Enter x= \"))\n",
    "    l.append(x)\n",
    "    \n",
    "print(l)\n",
    "    "
   ]
  },
  {
   "cell_type": "code",
   "execution_count": 15,
   "id": "0b0b416a",
   "metadata": {},
   "outputs": [],
   "source": [
    "#max min sum\n"
   ]
  },
  {
   "cell_type": "code",
   "execution_count": 19,
   "id": "db909f43",
   "metadata": {},
   "outputs": [
    {
     "name": "stdout",
     "output_type": "stream",
     "text": [
      "9000\n",
      "80\n",
      "12450\n"
     ]
    }
   ],
   "source": [
    "a=[80,2100,400,9000,870]\n",
    "print(max(a))\n",
    "print(min(a))\n",
    "print(sum(a))\n"
   ]
  },
  {
   "cell_type": "code",
   "execution_count": 20,
   "id": "7a3b8ec3",
   "metadata": {},
   "outputs": [
    {
     "name": "stdout",
     "output_type": "stream",
     "text": [
      "['apple', 'nepal', 'rhino', 'xray', 'zebra']\n"
     ]
    }
   ],
   "source": [
    "a=[\"apple\",\"xray\",\"nepal\",\"zebra\",\"rhino\"]\n",
    "a.sort()\n",
    "print(a)"
   ]
  },
  {
   "cell_type": "code",
   "execution_count": 23,
   "id": "55272d0b",
   "metadata": {},
   "outputs": [
    {
     "name": "stdout",
     "output_type": "stream",
     "text": [
      "apple\n",
      "xray\n",
      "nepal\n",
      "zebra\n",
      "rhino\n"
     ]
    }
   ],
   "source": [
    "a=[\"apple\",\"xray\",\"nepal\",\"zebra\",\"rhino\"]\n",
    "for i in a:\n",
    "    print(i)"
   ]
  },
  {
   "cell_type": "code",
   "execution_count": 24,
   "id": "ccd1e9b2",
   "metadata": {},
   "outputs": [
    {
     "name": "stdout",
     "output_type": "stream",
     "text": [
      "YES\n",
      "1\n"
     ]
    }
   ],
   "source": [
    "a=[\"apple\",\"xray\",\"nepal\",\"zebra\",\"rhino\"]\n",
    "if \"apple\" in a:\n",
    "    print(\"YES\")\n",
    "    print(a.count(\"apple\"))"
   ]
  },
  {
   "cell_type": "code",
   "execution_count": 25,
   "id": "5c9a858b",
   "metadata": {},
   "outputs": [],
   "source": [
    "# append()\n",
    "# insert()\n",
    "# extend()"
   ]
  },
  {
   "cell_type": "code",
   "execution_count": 26,
   "id": "8735ed82",
   "metadata": {},
   "outputs": [
    {
     "name": "stdout",
     "output_type": "stream",
     "text": [
      "['APPLE']\n"
     ]
    }
   ],
   "source": [
    "a=[]\n",
    "a.append(\"APPLE\")\n",
    "print(a)"
   ]
  },
  {
   "cell_type": "code",
   "execution_count": 27,
   "id": "57efca93",
   "metadata": {},
   "outputs": [
    {
     "name": "stdout",
     "output_type": "stream",
     "text": [
      "['apple', 'Ant', 'xray', 'nepal', 'zebra', 'rhino']\n"
     ]
    }
   ],
   "source": [
    "a=[\"apple\",\"xray\",\"nepal\",\"zebra\",\"rhino\"]\n",
    "a.insert(1,\"Ant\")\n",
    "print(a)"
   ]
  },
  {
   "cell_type": "code",
   "execution_count": 28,
   "id": "71420f94",
   "metadata": {},
   "outputs": [
    {
     "name": "stdout",
     "output_type": "stream",
     "text": [
      "['apple', 'xray', 'nepal', 'zebra', 'rhino', 1, 2, 3, 4, 5, 6]\n"
     ]
    }
   ],
   "source": [
    "a=[\"apple\",\"xray\",\"nepal\",\"zebra\",\"rhino\"]\n",
    "b=[1,2,3,4,5,6]\n",
    "a.extend(b)\n",
    "print(a)"
   ]
  },
  {
   "cell_type": "code",
   "execution_count": 30,
   "id": "76f17d98",
   "metadata": {},
   "outputs": [
    {
     "name": "stdout",
     "output_type": "stream",
     "text": [
      "['xray', 'nepal', 'zebra', 'rhino']\n"
     ]
    }
   ],
   "source": [
    "# remove()\n",
    "# del pop()\n",
    "\n",
    "a=[\"apple\",\"xray\",\"nepal\",\"zebra\",\"rhino\"]\n",
    "a.remove(\"apple\")\n",
    "print(a)"
   ]
  },
  {
   "cell_type": "code",
   "execution_count": 32,
   "id": "567983ce",
   "metadata": {},
   "outputs": [
    {
     "name": "stdout",
     "output_type": "stream",
     "text": [
      "['xray', 'nepal', 'zebra', 'rhino']\n"
     ]
    }
   ],
   "source": [
    "a=[\"apple\",\"xray\",\"nepal\",\"zebra\",\"rhino\"]\n",
    "del a[0]\n",
    "print(a)"
   ]
  },
  {
   "cell_type": "code",
   "execution_count": 33,
   "id": "65c498a9",
   "metadata": {},
   "outputs": [
    {
     "name": "stdout",
     "output_type": "stream",
     "text": [
      "['nepal', 'zebra', 'rhino']\n"
     ]
    }
   ],
   "source": [
    "a=[\"apple\",\"xray\",\"nepal\",\"zebra\",\"rhino\"]\n",
    "del a[0:2]\n",
    "print(a)"
   ]
  },
  {
   "cell_type": "code",
   "execution_count": 34,
   "id": "15cc3c9c",
   "metadata": {},
   "outputs": [
    {
     "data": {
      "text/plain": [
       "3"
      ]
     },
     "execution_count": 34,
     "metadata": {},
     "output_type": "execute_result"
    }
   ],
   "source": [
    "a=[\"apple\",\"xray\",\"nepal\",\"zebra\",\"rhino\"]\n",
    "a.index(\"zebra\")"
   ]
  },
  {
   "cell_type": "code",
   "execution_count": 38,
   "id": "fce06b4a",
   "metadata": {},
   "outputs": [
    {
     "name": "stdout",
     "output_type": "stream",
     "text": [
      "['apple', 'xray', 'nepal', 'zebra', 'apple', 'rhino']\n"
     ]
    }
   ],
   "source": [
    "a=[\"apple\",\"apple\",\"xray\",\"nepal\",\"zebra\",\"apple\",\"rhino\"]\n",
    "l=a.count('apple')\n",
    "for i in range(l):\n",
    "    if a[i]==\"apple\":\n",
    "        a.remove(a[i])\n",
    "print(a)\n",
    "        "
   ]
  },
  {
   "cell_type": "code",
   "execution_count": 37,
   "id": "cc1aa2a3",
   "metadata": {},
   "outputs": [
    {
     "name": "stdout",
     "output_type": "stream",
     "text": [
      "['xray', 'nepal', 'zebra', 'rhino']\n"
     ]
    }
   ],
   "source": [
    "b=[]\n",
    "a=[\"apple\",\"apple\",\"xray\",\"nepal\",\"zebra\",\"apple\",\"rhino\"]\n",
    "for i in a:\n",
    "    if i!=\"apple\":\n",
    "        b.append(i)\n",
    "print(b)"
   ]
  },
  {
   "cell_type": "code",
   "execution_count": null,
   "id": "bcda5c77",
   "metadata": {},
   "outputs": [],
   "source": [
    "#WAP to detect index of same value."
   ]
  }
 ],
 "metadata": {
  "kernelspec": {
   "display_name": "Python 3 (ipykernel)",
   "language": "python",
   "name": "python3"
  },
  "language_info": {
   "codemirror_mode": {
    "name": "ipython",
    "version": 3
   },
   "file_extension": ".py",
   "mimetype": "text/x-python",
   "name": "python",
   "nbconvert_exporter": "python",
   "pygments_lexer": "ipython3",
   "version": "3.9.7"
  }
 },
 "nbformat": 4,
 "nbformat_minor": 5
}
