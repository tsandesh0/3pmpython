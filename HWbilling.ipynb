{
 "cells": [
  {
   "cell_type": "code",
   "execution_count": 1,
   "id": "263f460c",
   "metadata": {},
   "outputs": [],
   "source": [
    "# #WAP to develop a billing application using string and loop.\n",
    "# name\n",
    "# price\n",
    "# quantity\n",
    "# total\n",
    "# #grand total\n"
   ]
  },
  {
   "cell_type": "code",
   "execution_count": 1,
   "id": "79c28028",
   "metadata": {},
   "outputs": [
    {
     "name": "stdout",
     "output_type": "stream",
     "text": [
      "Enter how many product you want to buy: 2\n",
      "Enter product name= milk\n",
      "Enter price= 90\n",
      "Enter quantity= 2\n",
      "Enter product name= sasa\n",
      "Enter price= 80\n",
      "Enter quantity= 3\n",
      "Your total is:  240\n",
      "Your grand total is:  271.2\n"
     ]
    }
   ],
   "source": [
    "que=int(input(\"Enter how many product you want to buy: \"))\n",
    "for i in range(que):\n",
    "    pname=input(\"Enter product name= \")\n",
    "    price=int(input(\"Enter price= \"))\n",
    "    qt=int(input(\"Enter quantity= \"))\n",
    "\n",
    "    total=price*qt\n",
    "    vat=0.13*total\n",
    "    gtotal=total+vat\n",
    "\n",
    "print(\"Your total is: \",total)\n",
    "print(\"Your grand total is: \",gtotal)\n"
   ]
  },
  {
   "cell_type": "code",
   "execution_count": 3,
   "id": "2eabaa9c",
   "metadata": {},
   "outputs": [
    {
     "name": "stdout",
     "output_type": "stream",
     "text": [
      "Enter how many product you want to buy: 1\n",
      "Enter Product Name= a\n",
      "Enter Quantity= 10\n",
      "Enter Price= 20\n",
      "\n",
      "Product Name:a\tRate:20\tQuantity:10\tSum= 200\n",
      "\n",
      "TOTAL:  200\n",
      "VAT 13%:  26.0\n",
      "GRAND TOTAL:  226.0\n"
     ]
    }
   ],
   "source": [
    "temp=0\n",
    "temp2=0\n",
    "temp3=0\n",
    "\n",
    "que=int(input(\"Enter how many product you want to buy: \"))\n",
    "for i in range(que):\n",
    "    pname=input(\"Enter Product Name= \")\n",
    "    qt=int(input(\"Enter Quantity= \"))\n",
    "    price=int(input(\"Enter Price= \"))\n",
    "\n",
    "    total=price*qt\n",
    "    vat=0.13*total\n",
    "    gtotal=total+vat\n",
    "    temp=total+temp\n",
    "    temp2=gtotal+temp2\n",
    "    temp3=vat+temp3\n",
    "    \n",
    "    details=f'\\nProduct Name:{pname}\\nRate:{price}\\nQuantity:{qt}\\nSum= {total}\\n'\n",
    "    print(details)\n",
    "    \n",
    "print(\"TOTAL: \",temp)\n",
    "print(\"VAT 13%: \",temp3)\n",
    "print(\"GRAND TOTAL: \",temp2)\n"
   ]
  },
  {
   "cell_type": "code",
   "execution_count": null,
   "id": "3a3bdf4a",
   "metadata": {},
   "outputs": [],
   "source": [
    "\n"
   ]
  },
  {
   "cell_type": "code",
   "execution_count": null,
   "id": "bb306cee",
   "metadata": {},
   "outputs": [],
   "source": []
  }
 ],
 "metadata": {
  "kernelspec": {
   "display_name": "Python 3 (ipykernel)",
   "language": "python",
   "name": "python3"
  },
  "language_info": {
   "codemirror_mode": {
    "name": "ipython",
    "version": 3
   },
   "file_extension": ".py",
   "mimetype": "text/x-python",
   "name": "python",
   "nbconvert_exporter": "python",
   "pygments_lexer": "ipython3",
   "version": "3.9.7"
  }
 },
 "nbformat": 4,
 "nbformat_minor": 5
}
