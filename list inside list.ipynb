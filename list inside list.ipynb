{
 "cells": [
  {
   "cell_type": "code",
   "execution_count": 1,
   "id": "75802fc5",
   "metadata": {},
   "outputs": [
    {
     "name": "stdout",
     "output_type": "stream",
     "text": [
      "3\n"
     ]
    }
   ],
   "source": [
    "#list inside list\n",
    "a=[[1,2,3],\n",
    "  [4,5,6],\n",
    "  [7,8,9]]\n",
    "print(len(a))"
   ]
  },
  {
   "cell_type": "code",
   "execution_count": 2,
   "id": "7d95b01f",
   "metadata": {},
   "outputs": [
    {
     "name": "stdout",
     "output_type": "stream",
     "text": [
      "[7, 8, 9]\n"
     ]
    }
   ],
   "source": [
    "print(a[2])"
   ]
  },
  {
   "cell_type": "code",
   "execution_count": 3,
   "id": "e1eaeb52",
   "metadata": {},
   "outputs": [
    {
     "name": "stdout",
     "output_type": "stream",
     "text": [
      "[['Ram', 34, 'Kathmandu'], ['shyam', 23, 'Gwarko'], ['hari', 34, 'bhaktapur']]\n"
     ]
    }
   ],
   "source": [
    "a=[[\"Ram\",34,\"Kathmandu\"],\n",
    "   [\"shyam\",23,\"Gwarko\"],\n",
    "   [\"hari\",34,\"bhaktapur\"]]\n",
    "print(a)"
   ]
  },
  {
   "cell_type": "code",
   "execution_count": 8,
   "id": "a9b9d1ce",
   "metadata": {},
   "outputs": [
    {
     "data": {
      "text/plain": [
       "'Kathmandu'"
      ]
     },
     "execution_count": 8,
     "metadata": {},
     "output_type": "execute_result"
    }
   ],
   "source": [
    "a[0][2]"
   ]
  },
  {
   "cell_type": "code",
   "execution_count": 10,
   "id": "1fbe5dc5",
   "metadata": {},
   "outputs": [
    {
     "name": "stdout",
     "output_type": "stream",
     "text": [
      "Enter name= Ram\n",
      "['Ram', 34, 'Kathmandu']\n"
     ]
    }
   ],
   "source": [
    "name=input(\"Enter name= \")\n",
    "for i in a:\n",
    "    if name in i:\n",
    "        print(i)"
   ]
  },
  {
   "cell_type": "code",
   "execution_count": 11,
   "id": "dbf029be",
   "metadata": {},
   "outputs": [
    {
     "name": "stdout",
     "output_type": "stream",
     "text": [
      "Enter a number=1\n",
      "Enter name= sandes\n",
      "Enter age= 25\n",
      "Enter location= lubhu\n",
      "[['sandes', 25, 'lubhu']]\n"
     ]
    }
   ],
   "source": [
    "a=[]\n",
    "n=int(input(\"Enter a number=\"))\n",
    "for i in range(n):\n",
    "    name =input(\"Enter name= \")\n",
    "    age= int(input(\"Enter age= \"))\n",
    "    l=input(\"Enter location= \")\n",
    "    data=[name,age,l]\n",
    "    a.append(data)\n",
    "    \n",
    "print(a)\n",
    "    "
   ]
  },
  {
   "cell_type": "code",
   "execution_count": 13,
   "id": "b61f21c0",
   "metadata": {},
   "outputs": [
    {
     "data": {
      "text/plain": [
       "[['shyam', 23, 'Gwarko'], ['hari', 34, 'bhaktapur']]"
      ]
     },
     "execution_count": 13,
     "metadata": {},
     "output_type": "execute_result"
    }
   ],
   "source": [
    "a=[[\"Ram\",34,\"Kathmandu\"],\n",
    "   [\"shyam\",23,\"Gwarko\"],\n",
    "   [\"hari\",34,\"bhaktapur\"]]\n",
    "del a[0]\n",
    "a\n"
   ]
  },
  {
   "cell_type": "code",
   "execution_count": 14,
   "id": "9a14304b",
   "metadata": {},
   "outputs": [
    {
     "data": {
      "text/plain": [
       "[['Ram prasad', 34, 'Kathmandu'],\n",
       " ['shyam', 23, 'Gwarko'],\n",
       " ['hari', 34, 'bhaktapur']]"
      ]
     },
     "execution_count": 14,
     "metadata": {},
     "output_type": "execute_result"
    }
   ],
   "source": [
    "a=[[\"Ram\",34,\"Kathmandu\"],\n",
    "   [\"shyam\",23,\"Gwarko\"],\n",
    "   [\"hari\",34,\"bhaktapur\"]]\n",
    "a[0][0]= \"Ram prasad\"\n",
    "a"
   ]
  },
  {
   "cell_type": "code",
   "execution_count": 15,
   "id": "124e2b1a",
   "metadata": {},
   "outputs": [
    {
     "data": {
      "text/plain": [
       "[['Ram', 34, 'Kathmandu'],\n",
       " ['shyam', 23, 'Gwarko'],\n",
       " ['hari', 34, 'bhaktapur'],\n",
       " ['Ram', 34, 'baluwatar']]"
      ]
     },
     "execution_count": 15,
     "metadata": {},
     "output_type": "execute_result"
    }
   ],
   "source": [
    "a=[[\"Ram\",34,\"Kathmandu\"],\n",
    "   [\"shyam\",23,\"Gwarko\"],\n",
    "   [\"hari\",34,\"bhaktapur\"]]\n",
    "a.append([\"Ram\",34,\"baluwatar\"])\n",
    "a"
   ]
  },
  {
   "cell_type": "code",
   "execution_count": 17,
   "id": "3e03a08e",
   "metadata": {},
   "outputs": [
    {
     "name": "stdout",
     "output_type": "stream",
     "text": [
      "Enter name= shyam\n"
     ]
    },
    {
     "data": {
      "text/plain": [
       "[['Ram', 34, 'Kathmandu'], ['hari', 34, 'bhaktapur']]"
      ]
     },
     "execution_count": 17,
     "metadata": {},
     "output_type": "execute_result"
    }
   ],
   "source": [
    "a=[[\"Ram\",34,\"Kathmandu\"],\n",
    "   [\"shyam\",23,\"Gwarko\"],\n",
    "   [\"hari\",34,\"bhaktapur\"]]\n",
    "\n",
    "name=input(\"Enter name= \")\n",
    "for i in a:\n",
    "    if name in i:\n",
    "        a.remove(i)\n",
    "a"
   ]
  },
  {
   "cell_type": "code",
   "execution_count": null,
   "id": "face3d5d",
   "metadata": {},
   "outputs": [],
   "source": [
    "#WAP to create a matrix by taking input from user  (hint: row and column)"
   ]
  }
 ],
 "metadata": {
  "kernelspec": {
   "display_name": "Python 3 (ipykernel)",
   "language": "python",
   "name": "python3"
  },
  "language_info": {
   "codemirror_mode": {
    "name": "ipython",
    "version": 3
   },
   "file_extension": ".py",
   "mimetype": "text/x-python",
   "name": "python",
   "nbconvert_exporter": "python",
   "pygments_lexer": "ipython3",
   "version": "3.9.7"
  }
 },
 "nbformat": 4,
 "nbformat_minor": 5
}
