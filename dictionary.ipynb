{
 "cells": [
  {
   "cell_type": "code",
   "execution_count": 1,
   "id": "c43dd5c1",
   "metadata": {},
   "outputs": [],
   "source": [
    "# Dictionary\n",
    "# Indexed\n",
    "# Ordered\n",
    "# Multiple data\n",
    "# Mutable\n"
   ]
  },
  {
   "cell_type": "code",
   "execution_count": 2,
   "id": "5479f6d7",
   "metadata": {},
   "outputs": [
    {
     "name": "stdout",
     "output_type": "stream",
     "text": [
      "{'a': 'Apple', 'b': 'Ball', 'c': 'Cat'}\n",
      "<class 'dict'>\n"
     ]
    }
   ],
   "source": [
    "# a={<key>:<value>,<key>:<value>}\n",
    "a={'a':\"Apple\",'b':\"Ball\",'c':\"Cat\"}\n",
    "print(a)\n",
    "print(type(a))"
   ]
  },
  {
   "cell_type": "code",
   "execution_count": 3,
   "id": "3dc6a5d7",
   "metadata": {},
   "outputs": [
    {
     "name": "stdout",
     "output_type": "stream",
     "text": [
      "Cat\n"
     ]
    }
   ],
   "source": [
    "print(a['c'])"
   ]
  },
  {
   "cell_type": "code",
   "execution_count": 4,
   "id": "982ec72b",
   "metadata": {},
   "outputs": [
    {
     "name": "stdout",
     "output_type": "stream",
     "text": [
      "3\n"
     ]
    }
   ],
   "source": [
    "a={'a':\"Apple\",'b':\"Ball\",'c':\"Cat\"}\n",
    "print(len(a))"
   ]
  },
  {
   "cell_type": "code",
   "execution_count": 5,
   "id": "21db2c1b",
   "metadata": {},
   "outputs": [
    {
     "name": "stdout",
     "output_type": "stream",
     "text": [
      "{'a': 'Apple', 'b': 'Ball', 'c': 'Cat', 'd': 'Dog'}\n"
     ]
    }
   ],
   "source": [
    "a={'a':\"Apple\",'b':\"Ball\",'c':\"Cat\"}\n",
    "a['d']=\"Dog\"\n",
    "print(a)"
   ]
  },
  {
   "cell_type": "code",
   "execution_count": 7,
   "id": "81a10cdc",
   "metadata": {},
   "outputs": [
    {
     "data": {
      "text/plain": [
       "{'a': 'Apple', 'b': 'Ball', 'c': 'Cat'}"
      ]
     },
     "execution_count": 7,
     "metadata": {},
     "output_type": "execute_result"
    }
   ],
   "source": [
    "a={}\n",
    "a['a']=\"Apple\"\n",
    "a['b']=\"Ball\"\n",
    "a['c']=\"Cat\"\n",
    "a"
   ]
  },
  {
   "cell_type": "code",
   "execution_count": 8,
   "id": "f297197e",
   "metadata": {},
   "outputs": [
    {
     "name": "stdout",
     "output_type": "stream",
     "text": [
      "Enter a value of n= 2\n",
      "Enter name= ram\n",
      "Enter a number= 9999\n",
      "Enter name= shyam\n",
      "Enter a number= 8888\n",
      "{'ram': 9999, 'shyam': 8888}\n"
     ]
    }
   ],
   "source": [
    "data={}\n",
    "n=int(input(\"Enter a value of n= \"))\n",
    "for i in range(n):\n",
    "    name=input(\"Enter name= \")\n",
    "    phone=int(input(\"Enter a number= \"))\n",
    "    data[name]=phone\n",
    "    \n",
    "print(data)"
   ]
  },
  {
   "cell_type": "code",
   "execution_count": 9,
   "id": "0a50f285",
   "metadata": {},
   "outputs": [
    {
     "data": {
      "text/plain": [
       "{'ram': 7777, 'shyam': '8888'}"
      ]
     },
     "execution_count": 9,
     "metadata": {},
     "output_type": "execute_result"
    }
   ],
   "source": [
    "a={'ram':\"9999\",'shyam':\"8888\"}\n",
    "a['ram']=7777\n",
    "a"
   ]
  },
  {
   "cell_type": "code",
   "execution_count": 10,
   "id": "f2a5d821",
   "metadata": {},
   "outputs": [
    {
     "name": "stdout",
     "output_type": "stream",
     "text": [
      "ram\n",
      "shyam\n"
     ]
    }
   ],
   "source": [
    "a={'ram':\"9999\",'shyam':\"8888\"}\n",
    "for i in a:\n",
    "    print(i)"
   ]
  },
  {
   "cell_type": "code",
   "execution_count": 11,
   "id": "111f4857",
   "metadata": {},
   "outputs": [
    {
     "name": "stdout",
     "output_type": "stream",
     "text": [
      "9999\n",
      "8888\n"
     ]
    }
   ],
   "source": [
    "a={'ram':\"9999\",'shyam':\"8888\"}\n",
    "for i in a.values():\n",
    "    print(i)"
   ]
  },
  {
   "cell_type": "code",
   "execution_count": 12,
   "id": "744ce17f",
   "metadata": {},
   "outputs": [
    {
     "name": "stdout",
     "output_type": "stream",
     "text": [
      "('ram', '9999')\n",
      "('shyam', '8888')\n"
     ]
    }
   ],
   "source": [
    "a={'ram':\"9999\",'shyam':\"8888\"}\n",
    "for i in a.items():\n",
    "    print(i)"
   ]
  },
  {
   "cell_type": "code",
   "execution_count": 14,
   "id": "1e9cd849",
   "metadata": {},
   "outputs": [
    {
     "data": {
      "text/plain": [
       "{'shyam': '8888'}"
      ]
     },
     "execution_count": 14,
     "metadata": {},
     "output_type": "execute_result"
    }
   ],
   "source": [
    "a={'ram':\"9999\",'shyam':\"8888\"}\n",
    "del a['ram']\n",
    "a"
   ]
  },
  {
   "cell_type": "code",
   "execution_count": 15,
   "id": "8cfb4a7c",
   "metadata": {},
   "outputs": [
    {
     "name": "stdout",
     "output_type": "stream",
     "text": [
      "{'shyam': '8888'}\n",
      "9999\n"
     ]
    }
   ],
   "source": [
    "a={'ram':\"9999\",'shyam':\"8888\"}\n",
    "b= a.pop('ram')\n",
    "print(a)\n",
    "print(b)"
   ]
  },
  {
   "cell_type": "code",
   "execution_count": 2,
   "id": "bd3f7ac6",
   "metadata": {},
   "outputs": [
    {
     "name": "stdout",
     "output_type": "stream",
     "text": [
      "Enter n= 1\n",
      "Enter name= ram\n",
      "Enter ntc num= 000\n",
      "Enter ncall num= 333\n",
      "{'ram': [0, 333]}\n"
     ]
    }
   ],
   "source": [
    "#list inside dictionary\n",
    "\n",
    "#a={'ram':[9999,7777],'shyam':[8888,5555]}\n",
    "info={}\n",
    "n=int(input(\"Enter n= \"))\n",
    "for i in range(n):\n",
    "    name=input(\"Enter name= \")\n",
    "    ntc_phone=int(input(\"Enter ntc num= \"))\n",
    "    ncell_phone=int(input(\"Enter ncall num= \"))\n",
    "    info[name]=[ntc_phone,ncell_phone]\n",
    "    \n",
    "print(info)"
   ]
  },
  {
   "cell_type": "code",
   "execution_count": 4,
   "id": "5bddb66a",
   "metadata": {},
   "outputs": [
    {
     "data": {
      "text/plain": [
       "9999"
      ]
     },
     "execution_count": 4,
     "metadata": {},
     "output_type": "execute_result"
    }
   ],
   "source": [
    "a={'ram':[9999,7777],'shyam':[8888,5555]}\n",
    "a['ram'][0]"
   ]
  },
  {
   "cell_type": "code",
   "execution_count": 5,
   "id": "bc9ff4cb",
   "metadata": {},
   "outputs": [
    {
     "data": {
      "text/plain": [
       "{'ram': [9999, 7777, 2222], 'shyam': [8888, 5555]}"
      ]
     },
     "execution_count": 5,
     "metadata": {},
     "output_type": "execute_result"
    }
   ],
   "source": [
    "a={'ram':[9999,7777],'shyam':[8888,5555]}\n",
    "a['ram'].append(2222)\n",
    "a"
   ]
  },
  {
   "cell_type": "code",
   "execution_count": 6,
   "id": "6b7953e8",
   "metadata": {},
   "outputs": [
    {
     "data": {
      "text/plain": [
       "{'ram': [9999, 7777, 2222], 'shyam': [8888, 5555], 'hari': [1234, 5667]}"
      ]
     },
     "execution_count": 6,
     "metadata": {},
     "output_type": "execute_result"
    }
   ],
   "source": [
    "a['hari']=[1234,5667]\n",
    "a"
   ]
  },
  {
   "cell_type": "code",
   "execution_count": 8,
   "id": "737c4a41",
   "metadata": {},
   "outputs": [
    {
     "data": {
      "text/plain": [
       "{'Name': ['Ram', 'shyam'], 'NTC': [9999, 8888], 'NCELL': [23445, 56777]}"
      ]
     },
     "execution_count": 8,
     "metadata": {},
     "output_type": "execute_result"
    }
   ],
   "source": [
    "a={'Name':[\"Ram\",\"shyam\"],\n",
    "    'NTC':[9999,8888],\n",
    "    'NCELL':[23445,56777]}\n",
    "a"
   ]
  },
  {
   "cell_type": "code",
   "execution_count": 9,
   "id": "e3c0d18d",
   "metadata": {},
   "outputs": [
    {
     "name": "stdout",
     "output_type": "stream",
     "text": [
      "Enter n= 2\n",
      "Enter name= ram\n",
      "Enter ntc num= 2222\n",
      "Enter ncall num= 3333\n",
      "Enter name= shyam\n",
      "Enter ntc num= 4444\n",
      "Enter ncall num= 5555\n",
      "{'Name': ['ram', 'shyam'], 'NTC': [2222, 4444], 'NCELL': [3333, 5555]}\n"
     ]
    }
   ],
   "source": [
    "info={'Name':[],'NTC':[],'NCELL':[]}\n",
    "n=int(input(\"Enter n= \"))\n",
    "for i in range(n):\n",
    "    name=input(\"Enter name= \")\n",
    "    ntc_phone=int(input(\"Enter ntc num= \"))\n",
    "    ncell_phone=int(input(\"Enter ncall num= \"))\n",
    "    info['Name'].append(name)\n",
    "    info['NTC'].append(ntc_phone)\n",
    "    info['NCELL'].append(ncell_phone)\n",
    "    \n",
    "print(info)"
   ]
  },
  {
   "cell_type": "code",
   "execution_count": 10,
   "id": "ccf3d664",
   "metadata": {},
   "outputs": [
    {
     "data": {
      "text/plain": [
       "{'Name': 'ram', 'Age': 20, 'Add': 'ktm'}"
      ]
     },
     "execution_count": 10,
     "metadata": {},
     "output_type": "execute_result"
    }
   ],
   "source": [
    "info=[{'Name':'ram','Age':20,\"Add\":'ktm'},\n",
    "     {'Name':'shyam','Age':30,\"Add\":'bkt'},\n",
    "     {'Name':'rita','Age':50,\"Add\":'bkt'},\n",
    "     {'Name':'geeta','Age':45,\"Add\":'ktm'}]\n",
    "\n",
    "info[0]"
   ]
  },
  {
   "cell_type": "code",
   "execution_count": 12,
   "id": "ad83fc52",
   "metadata": {},
   "outputs": [
    {
     "data": {
      "text/plain": [
       "'ram'"
      ]
     },
     "execution_count": 12,
     "metadata": {},
     "output_type": "execute_result"
    }
   ],
   "source": [
    "info[0]['Name']"
   ]
  },
  {
   "cell_type": "code",
   "execution_count": 13,
   "id": "9c8b8466",
   "metadata": {},
   "outputs": [
    {
     "data": {
      "text/plain": [
       "[{'Name': 'krish', 'Age': 20, 'Add': 'ktm'},\n",
       " {'Name': 'shyam', 'Age': 30, 'Add': 'bkt'},\n",
       " {'Name': 'rita', 'Age': 50, 'Add': 'bkt'},\n",
       " {'Name': 'geeta', 'Age': 45, 'Add': 'ktm'}]"
      ]
     },
     "execution_count": 13,
     "metadata": {},
     "output_type": "execute_result"
    }
   ],
   "source": [
    "info[0][\"Name\"]=\"krish\"\n",
    "info"
   ]
  },
  {
   "cell_type": "code",
   "execution_count": 15,
   "id": "6acedc5f",
   "metadata": {},
   "outputs": [
    {
     "name": "stdout",
     "output_type": "stream",
     "text": [
      "Enter a number= 1\n",
      "Enter name= sam\n",
      "Enter age= 59\n",
      "Enter address= ktm\n",
      "[{'Name': 'sam', 'Age': 59, 'Add': 'ktm'}]\n"
     ]
    }
   ],
   "source": [
    "info=[]\n",
    "n=int(input(\"Enter a number= \"))\n",
    "for i in range(n):\n",
    "    name=input(\"Enter name= \")\n",
    "    age=int(input(\"Enter age= \"))\n",
    "    add=input(\"Enter address= \")\n",
    "    data={'Name':name,'Age':age,\"Add\":add}\n",
    "    info.append(data)\n",
    "print(info)"
   ]
  },
  {
   "cell_type": "code",
   "execution_count": 5,
   "id": "6d03d703",
   "metadata": {},
   "outputs": [
    {
     "name": "stdout",
     "output_type": "stream",
     "text": [
      "{176878: {'Name': 'krish', 'Age': 20, 'Add': 'ktm'}, 264674: {'Name': 'shyam', 'Age': 30, 'Add': 'bkt'}, 346674: {'Name': 'rita', 'Age': 50, 'Add': 'bkt'}, 436367: {'Name': 'geeta', 'Age': 45, 'Add': 'ktm'}}\n"
     ]
    }
   ],
   "source": [
    "#dictionary inside dictionary\n",
    "\n",
    "a= {176878:{'Name': 'krish', 'Age': 20, 'Add': 'ktm'},\n",
    "    264674:{'Name': 'shyam', 'Age': 30, 'Add': 'bkt'},\n",
    "    346674:{'Name': 'rita', 'Age': 50, 'Add': 'bkt'},\n",
    "    436367:{'Name': 'geeta', 'Age': 45, 'Add': 'ktm'}}\n",
    "\n",
    "print(a)\n"
   ]
  },
  {
   "cell_type": "code",
   "execution_count": 6,
   "id": "d0c4745c",
   "metadata": {},
   "outputs": [
    {
     "name": "stdout",
     "output_type": "stream",
     "text": [
      "{'Name': 'geeta', 'Age': 45, 'Add': 'ktm'}\n"
     ]
    }
   ],
   "source": [
    "print(a[436367])"
   ]
  },
  {
   "cell_type": "code",
   "execution_count": 7,
   "id": "eb0c9f0c",
   "metadata": {},
   "outputs": [
    {
     "data": {
      "text/plain": [
       "{176878: {'Name': 'krish', 'Age': 20, 'Add': 'ktm'},\n",
       " 264674: {'Name': 'shyam', 'Age': 30, 'Add': 'bkt'},\n",
       " 346674: {'Name': 'rita', 'Age': 50, 'Add': 'bkt'},\n",
       " 436367: {'Name': 'geeta', 'Age': 45, 'Add': 'ktm'},\n",
       " 787683: {'Name': 'sabin', 'Age': 56, 'Add': 'ktm'}}"
      ]
     },
     "execution_count": 7,
     "metadata": {},
     "output_type": "execute_result"
    }
   ],
   "source": [
    "a[787683]={'Name':'sabin','Age':56,'Add':'ktm'}\n",
    "a"
   ]
  },
  {
   "cell_type": "code",
   "execution_count": null,
   "id": "e4befde3",
   "metadata": {},
   "outputs": [],
   "source": [
    "#WAP to create dictionary inside dictionary."
   ]
  }
 ],
 "metadata": {
  "kernelspec": {
   "display_name": "Python 3 (ipykernel)",
   "language": "python",
   "name": "python3"
  },
  "language_info": {
   "codemirror_mode": {
    "name": "ipython",
    "version": 3
   },
   "file_extension": ".py",
   "mimetype": "text/x-python",
   "name": "python",
   "nbconvert_exporter": "python",
   "pygments_lexer": "ipython3",
   "version": "3.9.7"
  }
 },
 "nbformat": 4,
 "nbformat_minor": 5
}
