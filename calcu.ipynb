{
 "cells": [
  {
   "cell_type": "code",
   "execution_count": 21,
   "id": "e6777886",
   "metadata": {},
   "outputs": [
    {
     "name": "stdout",
     "output_type": "stream",
     "text": [
      "Enter first number: 40\n",
      "Enter second number: 40\n",
      "+ , - , / , * : +\n",
      "Result:\n",
      "80\n"
     ]
    }
   ],
   "source": [
    "def add(a,b):\n",
    "    print(a+b) \n",
    "\n",
    "def sub(a,b):\n",
    "    print(a-b)\n",
    "\n",
    "def mul(a,b):\n",
    "    print(a*b)\n",
    "\n",
    "def div(a,b):\n",
    "    print(a/b)\n",
    "\n",
    "a=int(input(\"Enter first number: \"))\n",
    "b=int(input(\"Enter second number: \"))\n",
    "ope=input(\"+ , - , / , * : \")\n",
    "\n",
    "if ope==\"+\":\n",
    "    add(a,b)\n",
    "elif ope==\"-\":\n",
    "    sub(a,b)\n",
    "elif ope==\"*\":\n",
    "    mul(a,b)\n",
    "elif ope==\"/\":\n",
    "    div(a,b)\n",
    "else:\n",
    "    print(\"INVALID OPERATIONS\")\n"
   ]
  },
  {
   "cell_type": "code",
   "execution_count": null,
   "id": "50367d45",
   "metadata": {},
   "outputs": [],
   "source": []
  }
 ],
 "metadata": {
  "kernelspec": {
   "display_name": "Python 3 (ipykernel)",
   "language": "python",
   "name": "python3"
  },
  "language_info": {
   "codemirror_mode": {
    "name": "ipython",
    "version": 3
   },
   "file_extension": ".py",
   "mimetype": "text/x-python",
   "name": "python",
   "nbconvert_exporter": "python",
   "pygments_lexer": "ipython3",
   "version": "3.9.7"
  }
 },
 "nbformat": 4,
 "nbformat_minor": 5
}
