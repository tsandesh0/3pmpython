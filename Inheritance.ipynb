{
 "cells": [
  {
   "cell_type": "code",
   "execution_count": 1,
   "id": "8f455176",
   "metadata": {},
   "outputs": [],
   "source": [
    "# SYNTAX:\n",
    "\n",
    "# # class A:\n",
    "# #     pass\n",
    "\n",
    "# # class B(A):\n",
    "# #     pass\n",
    "\n",
    "# # obj= B()"
   ]
  },
  {
   "cell_type": "code",
   "execution_count": 4,
   "id": "907a1fd4",
   "metadata": {},
   "outputs": [
    {
     "name": "stdout",
     "output_type": "stream",
     "text": [
      "Enter name= ram\n",
      "Enter addreess= kathmandu\n",
      "Hello my name is ram . I am from kathmandu\n"
     ]
    }
   ],
   "source": [
    "class A:\n",
    "    def __init__(self):\n",
    "        self.name=input(\"Enter name= \")\n",
    "        self.add=input(\"Enter addreess= \")\n",
    "\n",
    "class B(A):\n",
    "    def info(self):\n",
    "        print(f\"Hello my name is {self.name} . I am from {self.add}\")\n",
    "        \n",
    "obj= B()\n",
    "obj.info()"
   ]
  },
  {
   "cell_type": "code",
   "execution_count": 1,
   "id": "b6d5dc2c",
   "metadata": {},
   "outputs": [
    {
     "name": "stdout",
     "output_type": "stream",
     "text": [
      "Enter name= aram\n",
      "Enter addreess= ktm\n",
      "Hello my name is aram . I am from ktm\n"
     ]
    }
   ],
   "source": [
    "class A:\n",
    "    def __init__(self,name,add):\n",
    "        self.name=name\n",
    "        self.add=add\n",
    "\n",
    "class B(A):\n",
    "    def info(self):\n",
    "        print(f\"Hello my name is {self.name} . I am from {self.add}\")\n",
    "        \n",
    "name = input(\"Enter name= \")\n",
    "add=input(\"Enter addreess= \")\n",
    "\n",
    "\n",
    "obj= B(name,add)\n",
    "obj.info()"
   ]
  },
  {
   "cell_type": "code",
   "execution_count": 2,
   "id": "4d780f97",
   "metadata": {},
   "outputs": [],
   "source": [
    "#MULTI-LEVEL INHERITANCE\n",
    "\n",
    "# class A:\n",
    "#     pass\n",
    "\n",
    "# class B(A):\n",
    "#     pass\n",
    "\n",
    "# class C(B):\n",
    "#     pass\n",
    "\n",
    "\n",
    "# obj = C()\n"
   ]
  },
  {
   "cell_type": "code",
   "execution_count": 3,
   "id": "43e9b96c",
   "metadata": {},
   "outputs": [],
   "source": [
    "#MULTIPLE INHERITANCE\n",
    "\n",
    "# class A:\n",
    "#     pass\n",
    "\n",
    "# class B:\n",
    "#     pass\n",
    "\n",
    "# class C(A,B):\n",
    "#     pass\n",
    "\n",
    "\n",
    "# obj = C()\n"
   ]
  },
  {
   "cell_type": "code",
   "execution_count": 2,
   "id": "ef32f450",
   "metadata": {},
   "outputs": [
    {
     "name": "stdout",
     "output_type": "stream",
     "text": [
      "Hello world I am  Ram . I am from ktm . I am 33 years old. \n"
     ]
    }
   ],
   "source": [
    "class A:\n",
    "    def __init__(self,add):\n",
    "        self.add=add\n",
    "    def address(self):\n",
    "        print(f\"I am from {self.add}\")\n",
    "\n",
    "class B(A):\n",
    "    def __init__(self,age,add):\n",
    "        self.age=age\n",
    "        A.__init__(self,add)\n",
    "    def age(self):\n",
    "        print(f\"I am from {self.add}. I am {self.age} \")\n",
    "\n",
    "class C(B):\n",
    "    def __init__(self,name,age,add):\n",
    "        self.name=name\n",
    "        B.__init__(self,age,add)\n",
    "    def info(self):\n",
    "        print(f\"Hello world I am  {self.name} . I am from {self.add} . I am {self.age} years old. \")\n",
    "        \n",
    "\n",
    "obj = C(\"Ram\",33,\"ktm\")\n",
    "obj.info()"
   ]
  },
  {
   "cell_type": "code",
   "execution_count": 5,
   "id": "3871593d",
   "metadata": {},
   "outputs": [
    {
     "name": "stdout",
     "output_type": "stream",
     "text": [
      "Hello world I am  Ram . I am from ktm . I am 33 years old. \n"
     ]
    }
   ],
   "source": [
    "class A:\n",
    "    def __init__(self,add):\n",
    "        self.add=add\n",
    "    def address(self):\n",
    "        print(f\"I am from {self.add}\")\n",
    "\n",
    "class B:\n",
    "    def __init__(self,age):\n",
    "        self.age=age\n",
    "    def age(self):\n",
    "        print(f\"I am {self.age} \")\n",
    "\n",
    "class C(A,B):\n",
    "    def __init__(self,name,age,add):\n",
    "        self.name=name\n",
    "        B.__init__(self,age)\n",
    "        A.__init__(self,add)\n",
    "        \n",
    "    def info(self):\n",
    "        print(f\"Hello world I am  {self.name} . I am from {self.add} . I am {self.age} years old. \")\n",
    "        \n",
    "\n",
    "obj = C(\"Ram\",33,\"ktm\")\n",
    "obj.info()"
   ]
  },
  {
   "cell_type": "code",
   "execution_count": 10,
   "id": "640bc81e",
   "metadata": {},
   "outputs": [
    {
     "name": "stdout",
     "output_type": "stream",
     "text": [
      "Hello I am 33 years old. I am from Kathmandu\n"
     ]
    }
   ],
   "source": [
    "class A:\n",
    "    def __init__(self):\n",
    "        self.add= \"Kathmandu\"\n",
    "    def a(self):\n",
    "        pass\n",
    "        \n",
    "class B:\n",
    "    def __init__(self):\n",
    "        self.age= 33\n",
    "    def b(self):\n",
    "        pass\n",
    "        \n",
    "class C(A,B):\n",
    "    def info(self):\n",
    "        A.__init__(self)\n",
    "        B.__init__(self)\n",
    "        print(f\"Hello I am {self.age} years old. I am from {self.add}\")\n",
    "        \n",
    "obj=C()\n",
    "obj.info()"
   ]
  },
  {
   "cell_type": "code",
   "execution_count": null,
   "id": "d4a5d094",
   "metadata": {
    "collapsed": true
   },
   "outputs": [],
   "source": []
  }
 ],
 "metadata": {
  "kernelspec": {
   "display_name": "Python 3 (ipykernel)",
   "language": "python",
   "name": "python3"
  },
  "language_info": {
   "codemirror_mode": {
    "name": "ipython",
    "version": 3
   },
   "file_extension": ".py",
   "mimetype": "text/x-python",
   "name": "python",
   "nbconvert_exporter": "python",
   "pygments_lexer": "ipython3",
   "version": "3.9.7"
  }
 },
 "nbformat": 4,
 "nbformat_minor": 5
}
